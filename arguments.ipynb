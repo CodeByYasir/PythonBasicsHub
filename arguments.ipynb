{
 "cells": [
  {
   "cell_type": "code",
   "execution_count": 18,
   "id": "71122f88-dbc1-4d9d-b03c-cb825b909aad",
   "metadata": {},
   "outputs": [
    {
     "name": "stdout",
     "output_type": "stream",
     "text": [
      "165\n",
      "167\n",
      "110\n"
     ]
    }
   ],
   "source": [
    "def calc_sum(a, b):\n",
    "    sum=a+b\n",
    "    print(sum)\n",
    "calc_sum(66, 99)\n",
    "calc_sum(79, 88)\n",
    "calc_sum(75, 35)"
   ]
  },
  {
   "cell_type": "code",
   "execution_count": 26,
   "id": "851bc1e9-289a-4319-b83e-be8880318cd4",
   "metadata": {},
   "outputs": [
    {
     "name": "stdout",
     "output_type": "stream",
     "text": [
      "5477\n"
     ]
    }
   ],
   "source": [
    "def calc_sum(a, b):\n",
    " return a+b\n",
    "sum=calc_sum(34, 5443)\n",
    "print(sum)"
   ]
  },
  {
   "cell_type": "code",
   "execution_count": 24,
   "id": "db0defc5-d8eb-440b-a236-986a7b2f36cc",
   "metadata": {},
   "outputs": [
    {
     "name": "stdout",
     "output_type": "stream",
     "text": [
      "37.666666666666664\n"
     ]
    },
    {
     "data": {
      "text/plain": [
       "37.666666666666664"
      ]
     },
     "execution_count": 24,
     "metadata": {},
     "output_type": "execute_result"
    }
   ],
   "source": [
    "def calc_avg(a, b, c):\n",
    " sum=a+b+c\n",
    " avg=sum/3\n",
    " print(avg)\n",
    " return avg\n",
    "calc_avg(34, 56, 23)"
   ]
  },
  {
   "cell_type": "markdown",
   "id": "a25a86fc-ec48-451f-bda6-388ccbb74d96",
   "metadata": {},
   "source": [
    "### Default Parameter"
   ]
  },
  {
   "cell_type": "code",
   "execution_count": 31,
   "id": "d3c1d70a-ebec-4f9c-8d12-fedb3e5bbe51",
   "metadata": {},
   "outputs": [
    {
     "name": "stdout",
     "output_type": "stream",
     "text": [
      "1035\n"
     ]
    }
   ],
   "source": [
    "def calc_prod(a=45, b=23):\n",
    "    print(a*b)\n",
    "calc_prod()"
   ]
  },
  {
   "cell_type": "code",
   "execution_count": 30,
   "id": "9f69a509-114f-4128-88cc-8105f40eadc6",
   "metadata": {},
   "outputs": [],
   "source": [
    "def average(a=4, b=3):\n",
    "    print(\"Average is\" ,(a+b)/2)\n",
    "    return average\n",
    "    average()"
   ]
  },
  {
   "cell_type": "code",
   "execution_count": 9,
   "id": "f66237ef-7386-4913-aa3f-8d516777829f",
   "metadata": {},
   "outputs": [],
   "source": [
    "def average(a=4, b=3):\n",
    "    print(\"Average is\" ,(a+b)/2)\n",
    "    average(a=5, b=4)"
   ]
  },
  {
   "cell_type": "code",
   "execution_count": 6,
   "id": "71cc013c-d3af-4eec-9d23-f5094d86af2f",
   "metadata": {},
   "outputs": [
    {
     "name": "stdout",
     "output_type": "stream",
     "text": [
      "Hello, Amy Jhon Whatson\n"
     ]
    }
   ],
   "source": [
    "def name(fname, mname = \"Jhon\", lname = \"Whatson\"):\n",
    "    print(\"Hello,\", fname, mname, lname)\n",
    "\n",
    "name(\"Amy\")"
   ]
  },
  {
   "cell_type": "code",
   "execution_count": 7,
   "id": "b3fba622-8102-44d1-b456-02b00231c114",
   "metadata": {},
   "outputs": [
    {
     "name": "stdout",
     "output_type": "stream",
     "text": [
      "Hello, Amy, Yasir Jhon Whatson\n"
     ]
    }
   ],
   "source": [
    "def name(fname, mname = \"Jhon\", lname = \"Whatson\"):\n",
    "    print(\"Hello,\", fname, mname, lname)\n",
    "\n",
    "name(\"Amy, Yasir\")"
   ]
  },
  {
   "cell_type": "code",
   "execution_count": 1,
   "id": "59508985-895a-4688-83bb-62f5d0171d9b",
   "metadata": {},
   "outputs": [
    {
     "name": "stdout",
     "output_type": "stream",
     "text": [
      "5.5\n"
     ]
    }
   ],
   "source": [
    "def calc_avg(a,b,c,d):\n",
    "    sum=a+b+c+d\n",
    "    avg=sum/4\n",
    "    print(avg)\n",
    "calc_avg(4,5,6,7)"
   ]
  },
  {
   "cell_type": "code",
   "execution_count": 16,
   "id": "9faced3f-1993-4c19-9bda-d3248cff1821",
   "metadata": {},
   "outputs": [
    {
     "name": "stdout",
     "output_type": "stream",
     "text": [
      "['karachi', 'Lahore', 'Islamabad', 'Faislabad', 'Hydrabad']\n",
      "5\n"
     ]
    }
   ],
   "source": [
    "cities=[\"karachi\",\"Lahore\",\"Islamabad\",\"Faislabad\",\"Hydrabad\"]\n",
    "print(cities)\n",
    "print(len(cities))"
   ]
  },
  {
   "cell_type": "code",
   "execution_count": 17,
   "id": "f8f11b5d-1fd2-4442-829b-cc7ed7ffd653",
   "metadata": {},
   "outputs": [
    {
     "name": "stdout",
     "output_type": "stream",
     "text": [
      "['karachi', 'lahore', 'islamabd']\n"
     ]
    }
   ],
   "source": [
    "def len_list(list):\n",
    "    cities=[\"karachi\",\"lahore\",\"islamabd\"]\n",
    "    print(cities)\n",
    "len_list(cities)"
   ]
  },
  {
   "cell_type": "code",
   "execution_count": null,
   "id": "3da74105-e0c7-4c47-9209-0c604d5c7315",
   "metadata": {},
   "outputs": [],
   "source": []
  }
 ],
 "metadata": {
  "kernelspec": {
   "display_name": "Python 3 (ipykernel)",
   "language": "python",
   "name": "python3"
  },
  "language_info": {
   "codemirror_mode": {
    "name": "ipython",
    "version": 3
   },
   "file_extension": ".py",
   "mimetype": "text/x-python",
   "name": "python",
   "nbconvert_exporter": "python",
   "pygments_lexer": "ipython3",
   "version": "3.11.7"
  }
 },
 "nbformat": 4,
 "nbformat_minor": 5
}
