{
 "cells": [
  {
   "cell_type": "code",
   "execution_count": 1,
   "id": "3bb469bf-c697-4907-9907-e1e7e5a738dc",
   "metadata": {},
   "outputs": [
    {
     "name": "stdout",
     "output_type": "stream",
     "text": [
      "(1, 4, 656, 465, 63, 33, 6, 5432, 543)\n"
     ]
    }
   ],
   "source": [
    "tup=(1,4,656,465,63,33,6,5432,543)\n",
    "print(tup)"
   ]
  },
  {
   "cell_type": "markdown",
   "id": "a3503fda-de5e-4d6b-a665-d040e567d48e",
   "metadata": {},
   "source": [
    "### in tuples we have to give comma if we are asssigning single value to the variabe"
   ]
  },
  {
   "cell_type": "code",
   "execution_count": 4,
   "id": "7b36b4ce-cd23-4fe3-9537-14d6c5912366",
   "metadata": {},
   "outputs": [
    {
     "name": "stdout",
     "output_type": "stream",
     "text": [
      "<class 'tuple'>\n"
     ]
    }
   ],
   "source": [
    "tup=(1,)\n",
    "print(type(tup))"
   ]
  },
  {
   "cell_type": "code",
   "execution_count": 5,
   "id": "fd27a65b-bdd0-4ebe-8ce6-fed0af8430f2",
   "metadata": {},
   "outputs": [
    {
     "name": "stdout",
     "output_type": "stream",
     "text": [
      "<class 'int'>\n"
     ]
    }
   ],
   "source": [
    "tup=(1)\n",
    "print(type(tup))"
   ]
  },
  {
   "cell_type": "markdown",
   "id": "6e20db86-0480-49df-aa66-f89a46932999",
   "metadata": {},
   "source": [
    "### Tuples Methods"
   ]
  },
  {
   "cell_type": "code",
   "execution_count": 9,
   "id": "fae99b0c-370b-41f0-b0f8-b6a5ac0b11f4",
   "metadata": {},
   "outputs": [
    {
     "name": "stdout",
     "output_type": "stream",
     "text": [
      "3\n"
     ]
    }
   ],
   "source": [
    "tup1=(1,2,34,5,5,66,74,6,74,36,7)\n",
    "print(tup1.index(5))"
   ]
  },
  {
   "cell_type": "code",
   "execution_count": 10,
   "id": "a1318bdc-67d4-4549-8b89-460645665194",
   "metadata": {},
   "outputs": [
    {
     "name": "stdout",
     "output_type": "stream",
     "text": [
      "2\n"
     ]
    }
   ],
   "source": [
    "print(tup1.count(5))"
   ]
  },
  {
   "cell_type": "code",
   "execution_count": 11,
   "id": "e151a67c-62c1-4083-8e04-550352aabd0b",
   "metadata": {},
   "outputs": [
    {
     "name": "stdout",
     "output_type": "stream",
     "text": [
      "2\n"
     ]
    }
   ],
   "source": [
    "std_grades=(56,7,54,63,73,23,63)\n",
    "print(std_grades.count(63))"
   ]
  },
  {
   "cell_type": "code",
   "execution_count": null,
   "id": "ef834d4e-c860-4748-91aa-d7c8907c94f1",
   "metadata": {},
   "outputs": [],
   "source": []
  }
 ],
 "metadata": {
  "kernelspec": {
   "display_name": "Python 3 (ipykernel)",
   "language": "python",
   "name": "python3"
  },
  "language_info": {
   "codemirror_mode": {
    "name": "ipython",
    "version": 3
   },
   "file_extension": ".py",
   "mimetype": "text/x-python",
   "name": "python",
   "nbconvert_exporter": "python",
   "pygments_lexer": "ipython3",
   "version": "3.11.7"
  }
 },
 "nbformat": 4,
 "nbformat_minor": 5
}
