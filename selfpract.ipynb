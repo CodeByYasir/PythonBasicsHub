{
 "cells": [
  {
   "cell_type": "code",
   "execution_count": 8,
   "id": "e4e1fc4f-4b6a-4fe2-acd6-5aca76467e52",
   "metadata": {},
   "outputs": [
    {
     "name": "stdin",
     "output_type": "stream",
     "text": [
      "Enter name: Zod\n",
      "Enter location: Karachi\n",
      "Enter industry: SE\n"
     ]
    },
    {
     "name": "stdout",
     "output_type": "stream",
     "text": [
      "['Zod', 'Karachi', 'SE']\n"
     ]
    },
    {
     "name": "stdin",
     "output_type": "stream",
     "text": [
      "Enter name: Zod\n",
      "Enter location: Karachi\n",
      "Enter industry: SE\n"
     ]
    },
    {
     "name": "stdout",
     "output_type": "stream",
     "text": [
      "[]\n",
      "Zod\n",
      "Karachi\n",
      "SE\n",
      "Zod\n",
      "Karachi\n",
      "SE\n"
     ]
    }
   ],
   "source": [
    "company=[]\n",
    "company.append(input(\"Enter name:\"))\n",
    "company.append(input(\"Enter location:\"))\n",
    "company.append(input(\"Enter industry:\"))\n",
    "print(company)\n",
    "competitor=[]\n",
    "company.append(input(\"Enter name:\"))\n",
    "company.append(input(\"Enter location:\"))\n",
    "company.append(input(\"Enter industry:\"))\n",
    "print(competitor)\n",
    "for i in company:\n",
    "    print(i)\n",
    "    for x in competitor:\n",
    "        print(x)\n",
    "if company==competitor:\n",
    "    print(\"not rival\")"
   ]
  },
  {
   "cell_type": "code",
   "execution_count": 17,
   "id": "cd000829-72db-4066-b5c5-5339fa4554ab",
   "metadata": {},
   "outputs": [
    {
     "data": {
      "text/plain": [
       "['Zod', 'Karachi', 'SE', 'Zod', 'Karachi', 'SE']"
      ]
     },
     "execution_count": 17,
     "metadata": {},
     "output_type": "execute_result"
    }
   ],
   "source": [
    "company"
   ]
  },
  {
   "cell_type": "code",
   "execution_count": 20,
   "id": "d193741d-7e5d-4401-8e12-f618b3432c60",
   "metadata": {},
   "outputs": [
    {
     "name": "stdout",
     "output_type": "stream",
     "text": [
      "[['Zod', 'Karachi', 'SE', 'Zod', 'Karachi', 'SE'], ['Zod', 'Karachi', 'SE', 'Zod', 'Karachi', 'SE']]\n"
     ]
    }
   ],
   "source": [
    "competitor.append(company)\n",
    "print(competitor)"
   ]
  },
  {
   "cell_type": "code",
   "execution_count": 23,
   "id": "234b7b1f-82e4-44cb-9367-a09b82bee256",
   "metadata": {},
   "outputs": [
    {
     "name": "stdout",
     "output_type": "stream",
     "text": [
      "['Zod', 'Karachi', 'SE', 'Zod', 'Karachi', 'SE'] vs [['Zod', 'Karachi', 'SE', 'Zod', 'Karachi', 'SE'], ['Zod', 'Karachi', 'SE', 'Zod', 'Karachi', 'SE']]\n",
      "['Zod', 'Karachi', 'SE', 'Zod', 'Karachi', 'SE'] vs [['Zod', 'Karachi', 'SE', 'Zod', 'Karachi', 'SE'], ['Zod', 'Karachi', 'SE', 'Zod', 'Karachi', 'SE']]\n",
      "['Zod', 'Karachi', 'SE', 'Zod', 'Karachi', 'SE'] vs [['Zod', 'Karachi', 'SE', 'Zod', 'Karachi', 'SE'], ['Zod', 'Karachi', 'SE', 'Zod', 'Karachi', 'SE']]\n",
      "['Zod', 'Karachi', 'SE', 'Zod', 'Karachi', 'SE'] vs [['Zod', 'Karachi', 'SE', 'Zod', 'Karachi', 'SE'], ['Zod', 'Karachi', 'SE', 'Zod', 'Karachi', 'SE']]\n",
      "['Zod', 'Karachi', 'SE', 'Zod', 'Karachi', 'SE'] vs [['Zod', 'Karachi', 'SE', 'Zod', 'Karachi', 'SE'], ['Zod', 'Karachi', 'SE', 'Zod', 'Karachi', 'SE']]\n",
      "['Zod', 'Karachi', 'SE', 'Zod', 'Karachi', 'SE'] vs [['Zod', 'Karachi', 'SE', 'Zod', 'Karachi', 'SE'], ['Zod', 'Karachi', 'SE', 'Zod', 'Karachi', 'SE']]\n",
      "['Zod', 'Karachi', 'SE', 'Zod', 'Karachi', 'SE'] vs [['Zod', 'Karachi', 'SE', 'Zod', 'Karachi', 'SE'], ['Zod', 'Karachi', 'SE', 'Zod', 'Karachi', 'SE']]\n",
      "['Zod', 'Karachi', 'SE', 'Zod', 'Karachi', 'SE'] vs [['Zod', 'Karachi', 'SE', 'Zod', 'Karachi', 'SE'], ['Zod', 'Karachi', 'SE', 'Zod', 'Karachi', 'SE']]\n",
      "['Zod', 'Karachi', 'SE', 'Zod', 'Karachi', 'SE'] vs [['Zod', 'Karachi', 'SE', 'Zod', 'Karachi', 'SE'], ['Zod', 'Karachi', 'SE', 'Zod', 'Karachi', 'SE']]\n",
      "['Zod', 'Karachi', 'SE', 'Zod', 'Karachi', 'SE'] vs [['Zod', 'Karachi', 'SE', 'Zod', 'Karachi', 'SE'], ['Zod', 'Karachi', 'SE', 'Zod', 'Karachi', 'SE']]\n",
      "['Zod', 'Karachi', 'SE', 'Zod', 'Karachi', 'SE'] vs [['Zod', 'Karachi', 'SE', 'Zod', 'Karachi', 'SE'], ['Zod', 'Karachi', 'SE', 'Zod', 'Karachi', 'SE']]\n",
      "['Zod', 'Karachi', 'SE', 'Zod', 'Karachi', 'SE'] vs [['Zod', 'Karachi', 'SE', 'Zod', 'Karachi', 'SE'], ['Zod', 'Karachi', 'SE', 'Zod', 'Karachi', 'SE']]\n"
     ]
    }
   ],
   "source": [
    "for i in range(len(company)):\n",
    "    for x in range(len(competitor)):\n",
    "        print(company,\"vs\",competitor)\n",
    "        if (company==competitor):\n",
    "         print(\"matched\")\n",
    "         break;"
   ]
  },
  {
   "cell_type": "code",
   "execution_count": 27,
   "id": "afbfdce9-a697-4a11-8025-f723537b3ae7",
   "metadata": {},
   "outputs": [
    {
     "name": "stdin",
     "output_type": "stream",
     "text": [
      "tasks: 2\n",
      "Enter your task: GYM\n"
     ]
    },
    {
     "name": "stdout",
     "output_type": "stream",
     "text": [
      "{'task0': 'GYM'}\n"
     ]
    },
    {
     "name": "stdin",
     "output_type": "stream",
     "text": [
      "Enter your task: UNI\n"
     ]
    },
    {
     "name": "stdout",
     "output_type": "stream",
     "text": [
      "{'task0': 'GYM', 'task1': 'UNI'}\n"
     ]
    }
   ],
   "source": [
    "dict={}\n",
    "taskcount=input(\"tasks:\")\n",
    "for count in range(int(taskcount)):\n",
    "    dict['task'+str(count)]=input(\"Enter your task:\")\n",
    "    print(dict)"
   ]
  },
  {
   "cell_type": "code",
   "execution_count": 30,
   "id": "7cdda70f-ac57-4148-a876-4e3977d9e436",
   "metadata": {},
   "outputs": [
    {
     "name": "stdout",
     "output_type": "stream",
     "text": [
      "14\n",
      "15\n",
      "16\n",
      "17\n",
      "18\n",
      "19\n",
      "20\n"
     ]
    }
   ],
   "source": [
    "for i in range(14,21,1):\n",
    "    print(i)"
   ]
  },
  {
   "cell_type": "code",
   "execution_count": 43,
   "id": "a02bfd2c-e5b3-4b65-badf-e8672be6a15a",
   "metadata": {},
   "outputs": [
    {
     "name": "stdout",
     "output_type": "stream",
     "text": [
      "6\n",
      "8\n"
     ]
    }
   ],
   "source": [
    "def sum(a,b):\n",
    " sum=a+b\n",
    " print(sum)\n",
    "sum(2,4)\n",
    "def prod(a,b):\n",
    " prod=a*b\n",
    " print(prod)\n",
    "prod(2,4)"
   ]
  },
  {
   "cell_type": "code",
   "execution_count": null,
   "id": "42d9fb92-bddd-44dd-b4a7-3c346d850d83",
   "metadata": {},
   "outputs": [],
   "source": []
  }
 ],
 "metadata": {
  "kernelspec": {
   "display_name": "Python 3 (ipykernel)",
   "language": "python",
   "name": "python3"
  },
  "language_info": {
   "codemirror_mode": {
    "name": "ipython",
    "version": 3
   },
   "file_extension": ".py",
   "mimetype": "text/x-python",
   "name": "python",
   "nbconvert_exporter": "python",
   "pygments_lexer": "ipython3",
   "version": "3.11.7"
  }
 },
 "nbformat": 4,
 "nbformat_minor": 5
}
