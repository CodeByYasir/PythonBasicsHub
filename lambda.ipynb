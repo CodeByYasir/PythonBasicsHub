{
 "cells": [
  {
   "cell_type": "code",
   "execution_count": 8,
   "id": "4eebb4e1-1f00-480c-9eba-e43a83a5d730",
   "metadata": {},
   "outputs": [
    {
     "data": {
      "text/plain": [
       "9"
      ]
     },
     "execution_count": 8,
     "metadata": {},
     "output_type": "execute_result"
    }
   ],
   "source": [
    "prod=lambda x: x**2\n",
    "prod(3)"
   ]
  },
  {
   "cell_type": "code",
   "execution_count": 19,
   "id": "366029ad-7c34-4f10-b7b6-a9c2b6a32567",
   "metadata": {},
   "outputs": [
    {
     "data": {
      "text/plain": [
       "45"
      ]
     },
     "execution_count": 19,
     "metadata": {},
     "output_type": "execute_result"
    }
   ],
   "source": [
    "table=lambda x: x*5\n",
    "table(9)"
   ]
  },
  {
   "cell_type": "code",
   "execution_count": 20,
   "id": "760cc1c9-94a1-43b8-aac6-d6478c33444d",
   "metadata": {},
   "outputs": [
    {
     "data": {
      "text/plain": [
       "5277319168"
      ]
     },
     "execution_count": 20,
     "metadata": {},
     "output_type": "execute_result"
    }
   ],
   "source": [
    "(lambda x: x**5)(88)"
   ]
  },
  {
   "cell_type": "code",
   "execution_count": null,
   "id": "ca088ef6-1e1c-4866-9846-fce2eba2ce89",
   "metadata": {},
   "outputs": [],
   "source": []
  },
  {
   "cell_type": "code",
   "execution_count": 28,
   "id": "370d45a8-7c5a-4b3d-a05f-c33f60a4d893",
   "metadata": {},
   "outputs": [],
   "source": [
    "job_postings = [\n",
    "    {'title': 'Data Scientist', 'skills': ['Python', 'SQL'], 'remote': True},\n",
    "    {'title': 'Data Analyst', 'skills': ['Excel', 'SQL'], 'remote': False},\n",
    "    {'title': 'Machine Learning Engineer', 'skills': ['Python', 'TensorFlow'], 'remote': True},\n",
    "    {'title': 'Software Developer', 'skills': ['Java', 'C++'], 'remote': True}\n",
    "]"
   ]
  },
  {
   "cell_type": "code",
   "execution_count": 36,
   "id": "729135cd-0798-418d-8c88-ff01f44ca09d",
   "metadata": {},
   "outputs": [],
   "source": [
    "result=lambda job:job[\"remote\"]"
   ]
  },
  {
   "cell_type": "code",
   "execution_count": 37,
   "id": "86a701da-404d-4c03-bff4-47f60b70f82d",
   "metadata": {},
   "outputs": [
    {
     "name": "stdout",
     "output_type": "stream",
     "text": [
      "<function <lambda> at 0x0000023D3904E8E0>\n"
     ]
    }
   ],
   "source": [
    "print(result)"
   ]
  },
  {
   "cell_type": "code",
   "execution_count": null,
   "id": "eb7bce77-4a7f-4757-ab35-e91fc8992ca0",
   "metadata": {},
   "outputs": [],
   "source": []
  }
 ],
 "metadata": {
  "kernelspec": {
   "display_name": "Python 3 (ipykernel)",
   "language": "python",
   "name": "python3"
  },
  "language_info": {
   "codemirror_mode": {
    "name": "ipython",
    "version": 3
   },
   "file_extension": ".py",
   "mimetype": "text/x-python",
   "name": "python",
   "nbconvert_exporter": "python",
   "pygments_lexer": "ipython3",
   "version": "3.11.7"
  }
 },
 "nbformat": 4,
 "nbformat_minor": 5
}
