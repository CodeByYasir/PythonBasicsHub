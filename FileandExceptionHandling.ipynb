{
 "cells": [
  {
   "cell_type": "markdown",
   "id": "38a3d5eb-2781-4e92-a4a6-0b6c071eb1c7",
   "metadata": {},
   "source": [
    "### EXCEPTIONS"
   ]
  },
  {
   "cell_type": "code",
   "execution_count": 1,
   "id": "ab3b844a-64b1-478e-82b7-fd16f01e7073",
   "metadata": {},
   "outputs": [
    {
     "name": "stdin",
     "output_type": "stream",
     "text": [
      " 44\n"
     ]
    },
    {
     "name": "stdout",
     "output_type": "stream",
     "text": [
      "Error Occured\n"
     ]
    }
   ],
   "source": [
    "a=int(input())\n",
    "try:\n",
    "    print(a+\"Hello\")\n",
    "except:\n",
    "    print(\"Error Occured\")"
   ]
  },
  {
   "cell_type": "code",
   "execution_count": 2,
   "id": "afb2f0f8-16f1-4249-9fa9-72a4e8cd3e24",
   "metadata": {},
   "outputs": [
    {
     "name": "stdin",
     "output_type": "stream",
     "text": [
      " 44\n"
     ]
    },
    {
     "name": "stdout",
     "output_type": "stream",
     "text": [
      "Trying\n",
      "Error Occured\n"
     ]
    }
   ],
   "source": [
    "a=int(input())\n",
    "try:\n",
    "    print(\"Trying\")\n",
    "    print(a+\"Hello\")\n",
    "    \n",
    "except:\n",
    "    print(\"Error Occured\")"
   ]
  },
  {
   "cell_type": "code",
   "execution_count": 3,
   "id": "0565df58-1bdd-425f-965d-5286a5f71b43",
   "metadata": {},
   "outputs": [
    {
     "name": "stdin",
     "output_type": "stream",
     "text": [
      " 33\n"
     ]
    },
    {
     "name": "stdout",
     "output_type": "stream",
     "text": [
      "trying\n",
      "unsupported operand type(s) for +: 'int' and 'str'\n"
     ]
    }
   ],
   "source": [
    "a=int(input())\n",
    "try:\n",
    "    print(\"trying\")\n",
    "    print(a+\"Hello\")\n",
    "except Exception as e:\n",
    "    print(e)\n",
    "    "
   ]
  },
  {
   "cell_type": "code",
   "execution_count": 4,
   "id": "376dca59-1967-46cb-855f-0369388ac300",
   "metadata": {},
   "outputs": [
    {
     "name": "stdin",
     "output_type": "stream",
     "text": [
      " 33\n"
     ]
    },
    {
     "name": "stdout",
     "output_type": "stream",
     "text": [
      "trying\n",
      "unsupported operand type(s) for +: 'int' and 'str'\n",
      "Code Executed\n"
     ]
    }
   ],
   "source": [
    "a=int(input())\n",
    "try:\n",
    "    print(\"trying\")\n",
    "    print(a+\"Hello\")\n",
    "except Exception as e:\n",
    "    print(e)\n",
    "finally:\n",
    "    print(\"Code Executed\")"
   ]
  },
  {
   "cell_type": "code",
   "execution_count": 5,
   "id": "1f07ef7b-a74c-4ec9-861e-198e288f8e0f",
   "metadata": {},
   "outputs": [
    {
     "name": "stdout",
     "output_type": "stream",
     "text": [
      "('The answer is', '42')\n",
      "Code Executed\n"
     ]
    }
   ],
   "source": [
    "try:\n",
    "    result=\"The answer is\",\"42\"\n",
    "    print(result)\n",
    "except TypeError as e:\n",
    "    print(f\"TyperError:{e}\")\n",
    "finally:\n",
    "    print(\"Code Executed\")"
   ]
  },
  {
   "cell_type": "code",
   "execution_count": 6,
   "id": "00b63fbc-7a6e-407a-a77b-2aa9a60eb022",
   "metadata": {},
   "outputs": [
    {
     "name": "stdout",
     "output_type": "stream",
     "text": [
      "ValueError: invalid literal for int() with base 10: 'abd'\n"
     ]
    }
   ],
   "source": [
    "try:\n",
    "    num=int(\"abd\")\n",
    "except ValueError as e:\n",
    "    print(f\"ValueError: {e}\")"
   ]
  },
  {
   "cell_type": "code",
   "execution_count": 8,
   "id": "e4170a66-798d-4044-85d3-e47ad24acecc",
   "metadata": {},
   "outputs": [
    {
     "name": "stdout",
     "output_type": "stream",
     "text": [
      "yasi\n",
      "KeyError: 'address'\n"
     ]
    }
   ],
   "source": [
    "try:\n",
    "    dict={\"name\":\"yasi\",\"age\":25}\n",
    "    print(dict[\"name\"])\n",
    "    print(dict[\"address\"])\n",
    "except KeyError as e:\n",
    "    print(f\"KeyError: {e}\")"
   ]
  },
  {
   "cell_type": "code",
   "execution_count": 10,
   "id": "88d1129b-c5b9-4a16-acc6-41c45052eaa6",
   "metadata": {},
   "outputs": [
    {
     "name": "stdin",
     "output_type": "stream",
     "text": [
      " 33\n"
     ]
    },
    {
     "name": "stdout",
     "output_type": "stream",
     "text": [
      "1.0\n",
      "code Executed\n"
     ]
    }
   ],
   "source": [
    "input=int(input())\n",
    "try:\n",
    "    print(input/input)\n",
    "except:\n",
    "    print(\"Validation Error\")\n",
    "finally:\n",
    "    print(\"code Executed\")"
   ]
  },
  {
   "cell_type": "markdown",
   "id": "91b6ad0f-8d17-4299-97aa-28e97b2098fa",
   "metadata": {},
   "source": [
    "### ValueError"
   ]
  },
  {
   "cell_type": "code",
   "execution_count": 11,
   "id": "588f47ed-b1bc-48ce-8c55-b043b09ea5ec",
   "metadata": {},
   "outputs": [
    {
     "name": "stdout",
     "output_type": "stream",
     "text": [
      "ValueError :invalid literal for int() with base 10: 'erwer'\n"
     ]
    }
   ],
   "source": [
    "try:\n",
    "    input=int(\"erwer\")\n",
    "    print(input)\n",
    "except ValueError as e:\n",
    "    print(f\"ValueError :{e}\")"
   ]
  },
  {
   "cell_type": "code",
   "execution_count": 13,
   "id": "04c78f2f-50fb-48df-93fa-8330b6132847",
   "metadata": {},
   "outputs": [
    {
     "name": "stdout",
     "output_type": "stream",
     "text": [
      "2.2\n"
     ]
    }
   ],
   "source": [
    "try:\n",
    "    a=str(\"2.2\")\n",
    "    print(a)\n",
    "except ValueError as e:\n",
    "    print(f\"ValueError:{e}\")"
   ]
  },
  {
   "cell_type": "code",
   "execution_count": 2,
   "id": "605df2eb-9f7a-4506-b031-1b0a90a38e90",
   "metadata": {},
   "outputs": [
    {
     "name": "stdin",
     "output_type": "stream",
     "text": [
      " 33\n"
     ]
    },
    {
     "name": "stdout",
     "output_type": "stream",
     "text": [
      "33.0\n"
     ]
    }
   ],
   "source": [
    "try:\n",
    "    a=int(input())\n",
    "    a=float(a)\n",
    "except ValueError as e:\n",
    "    print(e)\n",
    "finally:\n",
    "    print(a)"
   ]
  },
  {
   "cell_type": "markdown",
   "id": "8cb33d52-7b55-449e-928f-378bb9f24bba",
   "metadata": {},
   "source": [
    "### Raising User-Defined Exceptions"
   ]
  },
  {
   "cell_type": "code",
   "execution_count": 4,
   "id": "bd428a3d-843e-48d4-bdb9-168fbfa13a98",
   "metadata": {},
   "outputs": [
    {
     "name": "stdout",
     "output_type": "stream",
     "text": [
      "Age is acceptable\n"
     ]
    }
   ],
   "source": [
    "def check_age(age):\n",
    "    if age <18:\n",
    "        raise ValueError(\"Age must be atleast 18.\")\n",
    "    else:\n",
    "        print(\"Age is acceptable\")\n",
    "try:\n",
    "    check_age(20)\n",
    "except ValueError as e:\n",
    "    print(f\"ValueError:{e}\")"
   ]
  },
  {
   "cell_type": "code",
   "execution_count": 4,
   "id": "759d9ecb-3758-449c-9857-6a393bea8fe9",
   "metadata": {},
   "outputs": [
    {
     "name": "stdout",
     "output_type": "stream",
     "text": [
      "ValueError:only male can apply\n"
     ]
    }
   ],
   "source": [
    "def check_gender(gender):\n",
    "    if gender!= \"male\":\n",
    "        raise ValueError(\"only male can apply\")\n",
    "    else:\n",
    "        print(\"go ahead\")\n",
    "try:\n",
    "    check_gender(\"female\")\n",
    "except ValueError as e:\n",
    "    print(f\"ValueError:{e}\")"
   ]
  },
  {
   "cell_type": "markdown",
   "id": "31e8d35a-ff58-40bb-8957-ba63a7f63dbe",
   "metadata": {},
   "source": [
    "### File Handling"
   ]
  },
  {
   "cell_type": "code",
   "execution_count": 23,
   "id": "6cea507c-5c26-4713-a83a-d970284eb9ed",
   "metadata": {},
   "outputs": [
    {
     "name": "stdout",
     "output_type": "stream",
     "text": [
      "{\n",
      " \"cells\": [\n",
      "  {\n",
      "   \"cell_type\": \"code\",\n",
      "   \"execution_count\": 1,\n",
      "   \"id\": \"bbaeca02-4ce7-4872-9a3b-8990cb044689\",\n",
      "   \"metadata\": {},\n",
      "   \"outputs\": [],\n",
      "   \"source\": [\n",
      "    \"### name: yasir\\n\",\n",
      "    \"### age: 24\"\n",
      "   ]\n",
      "  },\n",
      "  {\n",
      "   \"cell_type\": \"code\",\n",
      "   \"execution_count\": null,\n",
      "   \"id\": \"770dbd2f-4f50-4441-9899-591a4653d83a\",\n",
      "   \"metadata\": {},\n",
      "   \"outputs\": [],\n",
      "   \"source\": []\n",
      "  }\n",
      " ],\n",
      " \"metadata\": {\n",
      "  \"kernelspec\": {\n",
      "   \"display_name\": \"Python 3 (ipykernel)\",\n",
      "   \"language\": \"python\",\n",
      "   \"name\": \"python3\"\n",
      "  },\n",
      "  \"language_info\": {\n",
      "   \"codemirror_mode\": {\n",
      "    \"name\": \"ipython\",\n",
      "    \"version\": 3\n",
      "   },\n",
      "   \"file_extension\": \".py\",\n",
      "   \"mimetype\": \"text/x-python\",\n",
      "   \"name\": \"python\",\n",
      "   \"nbconvert_exporter\": \"python\",\n",
      "   \"pygments_lexer\": \"ipython3\",\n",
      "   \"version\": \"3.11.7\"\n",
      "  }\n",
      " },\n",
      " \"nbformat\": 4,\n",
      " \"nbformat_minor\": 5\n",
      "}\n",
      "\n"
     ]
    }
   ],
   "source": [
    "file=open(\"python.txt.ipynb\",\"r\")\n",
    "content=file.read()\n",
    "print(content)"
   ]
  },
  {
   "cell_type": "code",
   "execution_count": 24,
   "id": "2ffefa27-892e-467b-b0b7-d45d356ae702",
   "metadata": {},
   "outputs": [
    {
     "name": "stdout",
     "output_type": "stream",
     "text": [
      "\n"
     ]
    }
   ],
   "source": [
    "content=file.readline()\n",
    "print(content)"
   ]
  },
  {
   "cell_type": "code",
   "execution_count": 5,
   "id": "97646afd-7928-4747-a874-5dbda82cf8d8",
   "metadata": {},
   "outputs": [
    {
     "name": "stdout",
     "output_type": "stream",
     "text": [
      "Name:Yasir\n",
      "Age:24\n",
      "DOB:24/02/2000\n"
     ]
    }
   ],
   "source": [
    "file=open(\"C:/Users/Yasir Ahmad/Desktop/yasir.txt\",\"r\")\n",
    "content=file.read()\n",
    "print(content)"
   ]
  },
  {
   "cell_type": "code",
   "execution_count": 6,
   "id": "ca26f9ad-90b0-4ac4-ab2e-de1a18dd648e",
   "metadata": {},
   "outputs": [
    {
     "name": "stdout",
     "output_type": "stream",
     "text": [
      "Name:Yasir\n",
      "Age:24\n",
      "DOB:24/02/2000\n"
     ]
    }
   ],
   "source": [
    "file.readline()\n",
    "print(content)"
   ]
  },
  {
   "cell_type": "code",
   "execution_count": 7,
   "id": "4937cb99-d57b-42ed-baba-386cc1314c87",
   "metadata": {},
   "outputs": [
    {
     "name": "stdout",
     "output_type": "stream",
     "text": [
      "# PythonLearrning\n",
      "In this Repo I just push whatever I practice for Python Programming \n",
      "\n"
     ]
    }
   ],
   "source": [
    "file=open(\"C:/Users/Yasir Ahmad/Desktop/PythonLearrning/README.md\",\"r\")\n",
    "content=file.read()\n",
    "print(content)"
   ]
  },
  {
   "cell_type": "code",
   "execution_count": 8,
   "id": "239e7d91-e29e-4585-8158-81b7882ecb83",
   "metadata": {},
   "outputs": [
    {
     "name": "stdout",
     "output_type": "stream",
     "text": [
      "\n"
     ]
    }
   ],
   "source": [
    "content=file.readline()\n",
    "print(content)"
   ]
  },
  {
   "cell_type": "code",
   "execution_count": 9,
   "id": "f1766da0-1336-4095-a035-0b687fee47e5",
   "metadata": {},
   "outputs": [
    {
     "name": "stdout",
     "output_type": "stream",
     "text": [
      "Name:Yasir\n",
      "Age:24\n",
      "DOB:24/02/2000\n",
      "Name:Yasir\n",
      "Age:24\n",
      "DOB:24/02/2000\n"
     ]
    }
   ],
   "source": [
    "file=open(\"C:/Users/Yasir Ahmad/Desktop/yasir.txt\",\"r\")\n",
    "content=file.read()\n",
    "print(content)\n",
    "while content:\n",
    "    print(content.strip())\n",
    "    content=file.readline()\n",
    "file.close()"
   ]
  },
  {
   "cell_type": "code",
   "execution_count": 15,
   "id": "65c92771-2986-4245-854a-5c00dd1f74b4",
   "metadata": {},
   "outputs": [
    {
     "name": "stdout",
     "output_type": "stream",
     "text": [
      "Name:Yasir\n",
      "Age:24\n",
      "DOB:24/02/2000\n",
      "N\n",
      "a\n",
      "m\n",
      "e\n",
      ":\n",
      "Y\n",
      "a\n",
      "s\n",
      "i\n",
      "r\n",
      "\n",
      "\n",
      "A\n",
      "g\n",
      "e\n",
      ":\n",
      "2\n",
      "4\n",
      "\n",
      "\n",
      "D\n",
      "O\n",
      "B\n",
      ":\n",
      "2\n",
      "4\n",
      "/\n",
      "0\n",
      "2\n",
      "/\n",
      "2\n",
      "0\n",
      "0\n",
      "0\n"
     ]
    }
   ],
   "source": [
    "file=open(\"C:/Users/Yasir Ahmad/Desktop/yasir.txt\",\"r\")\n",
    "content=file.read()\n",
    "print(content)\n",
    "for line in content:\n",
    "    print(line)"
   ]
  },
  {
   "cell_type": "code",
   "execution_count": 17,
   "id": "de478f83-cf47-4752-ae74-0d7711cbd1e7",
   "metadata": {},
   "outputs": [],
   "source": [
    "file=open(\"C:/Users/Yasir Ahmad/Desktop/yasir.txt\",\"w\")\n",
    "content=\"Saylani IT\"\n",
    "file.write(content)\n",
    "file.close()"
   ]
  },
  {
   "cell_type": "code",
   "execution_count": 18,
   "id": "b579bc03-e4de-4071-b2ca-1f7375224243",
   "metadata": {},
   "outputs": [
    {
     "name": "stdout",
     "output_type": "stream",
     "text": [
      "Saylani IT\n"
     ]
    }
   ],
   "source": [
    "print(content)"
   ]
  },
  {
   "cell_type": "code",
   "execution_count": 8,
   "id": "15608625-f945-4196-a185-cc93ea729091",
   "metadata": {},
   "outputs": [
    {
     "data": {
      "text/plain": [
       "12"
      ]
     },
     "execution_count": 8,
     "metadata": {},
     "output_type": "execute_result"
    }
   ],
   "source": [
    "file=open(\"C:/Users/Yasir Ahmad/Desktop/yasir.txt\",\"a\")\n",
    "content=\"\\n Saylani IT\"\n",
    "file.write(content)"
   ]
  },
  {
   "cell_type": "code",
   "execution_count": 7,
   "id": "32f0ea21-9e20-4cef-ab17-b5667055097b",
   "metadata": {},
   "outputs": [
    {
     "name": "stdout",
     "output_type": "stream",
     "text": [
      "\n",
      " Saylani IT\n"
     ]
    }
   ],
   "source": [
    "print(content)"
   ]
  },
  {
   "cell_type": "code",
   "execution_count": 9,
   "id": "9b3dd4c2-d51d-4f60-8de8-e506727a4897",
   "metadata": {},
   "outputs": [],
   "source": [
    "file.close()"
   ]
  },
  {
   "cell_type": "code",
   "execution_count": 11,
   "id": "99b3e35e-a1f4-43fe-8726-94be6d40df74",
   "metadata": {},
   "outputs": [
    {
     "name": "stdout",
     "output_type": "stream",
     "text": [
      "\n",
      " Main jaraha hn\n"
     ]
    }
   ],
   "source": [
    "file=open(\"C:/Users/Yasir Ahmad/Desktop/yasir1.txt\",\"w\")\n",
    "content=\"\\n Main jaraha hn\"\n",
    "file.write(content)\n",
    "print(content)\n"
   ]
  },
  {
   "cell_type": "code",
   "execution_count": 4,
   "id": "6b55916b-ed70-4137-9054-8e7802052149",
   "metadata": {},
   "outputs": [
    {
     "name": "stdout",
     "output_type": "stream",
     "text": [
      "FileNotFoundError:[Errno 2] No such file or directory: 'C:/Users/Yasir Ahmad/Desktop/yasir2.txt'\n"
     ]
    }
   ],
   "source": [
    "try:\n",
    "    file=open(\"C:/Users/Yasir Ahmad/Desktop/yasir2.txt\",\"r\")\n",
    "    content=file.read()\n",
    "    print(content)\n",
    "except FileNotFoundError as e:\n",
    "    print(f\"FileNotFoundError:{e}\")"
   ]
  },
  {
   "cell_type": "code",
   "execution_count": 3,
   "id": "b1ceaa89-1b3b-4bf9-a9e5-6372ba0aee2d",
   "metadata": {},
   "outputs": [
    {
     "name": "stdout",
     "output_type": "stream",
     "text": [
      "TypeError:TextIOWrapper.write() takes exactly one argument (0 given)\n"
     ]
    }
   ],
   "source": [
    "try:\n",
    "    file=open(\"C:/Users/Yasir Ahmad/Desktop/yasir1.txt\",\"r\")\n",
    "    content=file.write()\n",
    "    print(content)\n",
    "except TypeError as e:\n",
    "    print(f\"TypeError:{e}\")"
   ]
  },
  {
   "cell_type": "code",
   "execution_count": null,
   "id": "c505abcb-abec-4f7f-8aec-ded543214e96",
   "metadata": {},
   "outputs": [],
   "source": []
  }
 ],
 "metadata": {
  "kernelspec": {
   "display_name": "Python 3 (ipykernel)",
   "language": "python",
   "name": "python3"
  },
  "language_info": {
   "codemirror_mode": {
    "name": "ipython",
    "version": 3
   },
   "file_extension": ".py",
   "mimetype": "text/x-python",
   "name": "python",
   "nbconvert_exporter": "python",
   "pygments_lexer": "ipython3",
   "version": "3.11.7"
  }
 },
 "nbformat": 4,
 "nbformat_minor": 5
}
