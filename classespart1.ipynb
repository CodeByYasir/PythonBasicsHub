{
 "cells": [
  {
   "cell_type": "markdown",
   "id": "ab125ef0-38e9-4b64-8449-25292fabb9ba",
   "metadata": {},
   "source": [
    "-->Task: create class for saylani and also create atleast 2 attributes and 1 method"
   ]
  },
  {
   "cell_type": "code",
   "execution_count": 34,
   "id": "48640237-e8f8-40c1-852f-62ef36d88b05",
   "metadata": {},
   "outputs": [
    {
     "name": "stdout",
     "output_type": "stream",
     "text": [
      "Bahadurabad\n",
      "Python\n",
      "learning at saylani Bahadurabad\n",
      "Karachi\n",
      "M/F\n"
     ]
    }
   ],
   "source": [
    "class saylani():\n",
    "    location=\"Karachi\"\n",
    "    instructor=\"M/F\"\n",
    "    def __init__(self,campus:str,course:str):\n",
    "        \n",
    "        self.campus=campus\n",
    "        self.course=course\n",
    "    def course_for(self,studying:str):\n",
    "        print(f\"{studying} at saylani {self.campus}\")\n",
    "work=saylani(\"Bahadurabad\",\"Python\")\n",
    "print(work.campus)\n",
    "print(work.course)\n",
    "work.course_for(\"learning\")\n",
    "print(saylani.location)\n",
    "print(saylani.instructor)"
   ]
  },
  {
   "cell_type": "code",
   "execution_count": 6,
   "id": "3886f6f8-5f96-49ce-b8a6-da3cd40ac402",
   "metadata": {},
   "outputs": [
    {
     "name": "stdout",
     "output_type": "stream",
     "text": [
      "2015\n",
      "Mehran\n",
      "White\n",
      "car is traveling to dubai and carrying Laptops\n",
      " car  price is 800000\n"
     ]
    }
   ],
   "source": [
    "class cars():\n",
    "    def __init__(self,car_model:int,car_name:str,car_color:str):\n",
    "        self.car_model=car_model\n",
    "        self.car_name=car_name\n",
    "        self.car_color=car_color\n",
    "    def cars_func(self,traveling:str,carry_items:str):\n",
    "        print(f\"car is traveling to {traveling} and carrying {carry_items}\")\n",
    "    def cars_price(self,price:int):\n",
    "        print(f\" car  price is {price}\")\n",
    "obj1=cars(2015,\"Mehran\",\"White\")\n",
    "print(obj1.car_model)\n",
    "print(obj1.car_name)\n",
    "print(obj1.car_color)\n",
    "obj1.cars_func(\"dubai\",\"Laptops\")\n",
    "obj1.cars_price(800000)"
   ]
  },
  {
   "cell_type": "code",
   "execution_count": 27,
   "id": "e87c13cf-53e3-4cb9-b0d6-a208409b5d3c",
   "metadata": {},
   "outputs": [],
   "source": [
    "class teacher():\n",
    "    counter=0\n",
    "    organization=\"Saylani Mass IT Training\"\n",
    "    def __init__(self,name,course,timing):\n",
    "        self.name=name\n",
    "        self.course=course\n",
    "        self.timing=timing\n",
    "        teacher.counter+=1\n",
    "    def details(self):\n",
    "        print(f\"Teacher{name}is teaching {self.course} at {self.timing}\")\n",
    "    def teaching(self,course):\n",
    "        print(f\"right now course {self.name} is teaching {course}\")\n",
    "obj1=teacher(\"Faisal\",\"Python Programming\",\"9to12\")\n",
    "obj2=teacher(\"Laiba\",\"Data Engineering\",\"11to12\")"
   ]
  },
  {
   "cell_type": "code",
   "execution_count": 35,
   "id": "018a81e9-3131-484d-9e52-7676b237554a",
   "metadata": {},
   "outputs": [
    {
     "name": "stdout",
     "output_type": "stream",
     "text": [
      "Faisal\n",
      "Laiba\n"
     ]
    }
   ],
   "source": [
    "print(obj1.name)\n",
    "print(obj2.name)"
   ]
  },
  {
   "cell_type": "code",
   "execution_count": 28,
   "id": "a2ebb39b-25dc-43ea-b843-7e640a52b1cc",
   "metadata": {},
   "outputs": [
    {
     "data": {
      "text/plain": [
       "2"
      ]
     },
     "execution_count": 28,
     "metadata": {},
     "output_type": "execute_result"
    }
   ],
   "source": [
    "teacher.counter"
   ]
  },
  {
   "cell_type": "code",
   "execution_count": 29,
   "id": "e688693d-1c79-4718-a111-25e021aada0b",
   "metadata": {},
   "outputs": [
    {
     "data": {
      "text/plain": [
       "'Saylani Mass IT Training'"
      ]
     },
     "execution_count": 29,
     "metadata": {},
     "output_type": "execute_result"
    }
   ],
   "source": [
    "teacher.organization"
   ]
  },
  {
   "cell_type": "code",
   "execution_count": 30,
   "id": "6b949790-d1c9-488c-b3b2-3df6bb95e4a0",
   "metadata": {},
   "outputs": [
    {
     "name": "stdout",
     "output_type": "stream",
     "text": [
      "2\n",
      "Saylani Mass IT Training\n"
     ]
    }
   ],
   "source": [
    "print(obj2.counter)\n",
    "print(obj2.organization)"
   ]
  },
  {
   "cell_type": "markdown",
   "id": "f986008e-17d3-4e1c-887b-e160c72f3386",
   "metadata": {},
   "source": [
    "OOP ---> object oriented programming\n",
    "Pillars of OOP:\n",
    "1- Inheritance\n",
    "2- Polymorphism\n",
    "3- Abstraction\n",
    "4- Encapsulation"
   ]
  },
  {
   "cell_type": "code",
   "execution_count": 8,
   "id": "5e4eb645-236f-410e-b59f-1c4cdb24c9db",
   "metadata": {},
   "outputs": [
    {
     "name": "stdout",
     "output_type": "stream",
     "text": [
      "Anne 1 [1]\n",
      "Leo 1 [1, 2]\n",
      "Suzy 1 [1, 2, 3]\n"
     ]
    }
   ],
   "source": [
    "class test:\n",
    "    def __init__(self, lst=[], intg=0):\n",
    "        self.lista   = lst\n",
    "        self.integer = intg\n",
    "\n",
    "name_dict = {}\n",
    "counter   = 0\n",
    "\n",
    "for name in ('Anne', 'Leo', 'Suzy'):\n",
    "    counter += 1\n",
    "\n",
    "    name_dict[name] = test()\n",
    "    name_dict[name].integer += 1\n",
    "    name_dict[name].lista.append(counter)\n",
    "\n",
    "    print(name, name_dict[name].integer, name_dict[name].lista)"
   ]
  },
  {
   "cell_type": "code",
   "execution_count": 6,
   "id": "fa865d29-5dcd-4763-9fdf-b6726ee178c6",
   "metadata": {},
   "outputs": [],
   "source": [
    "class hms:\n",
    "    def doctors_records(self,name:str,age:int,department:str):\n",
    "        self.name=name\n",
    "        self.age=age\n",
    "        self.department=department\n",
    "    def patients_records(self,name:str,age:int,disease:str):\n",
    "        self.name=name\n",
    "        self.age=age\n",
    "        self.disease=dease\n",
    "    def lab_records(self,patient_name,patient_report,patient_test):\n",
    "        self.patient_name=patient_name\n",
    "        self.patient_report=patient_report\n",
    "        self.patient_test=patient_test\n",
    "pass"
   ]
  },
  {
   "cell_type": "code",
   "execution_count": 13,
   "id": "200c5776-2cdd-44c8-8634-a2503dd7d8e9",
   "metadata": {},
   "outputs": [
    {
     "name": "stdout",
     "output_type": "stream",
     "text": [
      "Lailaa Majnu\n",
      "Josef\n",
      "Action\n",
      "1\n",
      "Bookland\n",
      "Yasir bought a book on monday 14thAug\n",
      "Khan was a seller\n"
     ]
    }
   ],
   "source": [
    "class books:\n",
    "    counter=0\n",
    "    organization=\"Bookland\"\n",
    "    def __init__(self,name,author,genre):\n",
    "        self.name=name\n",
    "        self.author=author\n",
    "        self.genre=genre\n",
    "        books.counter+=1\n",
    "    def buyer(self,name,date):\n",
    "        print(f\"{name} bought a book on monday {date}\")\n",
    "    def seller(self,name):\n",
    "        print(f\"{name} was a seller\")\n",
    "obj=books(\"Lailaa Majnu\",\"Josef\",\"Action\")\n",
    "print(obj.name)\n",
    "print(obj.author)\n",
    "print(obj.genre)\n",
    "print(obj.counter)\n",
    "print(obj.organization)\n",
    "obj.buyer(\"Yasir\",\"14thAug\")\n",
    "obj.seller(\"Khan\")"
   ]
  },
  {
   "cell_type": "code",
   "execution_count": 16,
   "id": "7e4e7cc7-4deb-4ef9-9d28-127cd12338b1",
   "metadata": {},
   "outputs": [
    {
     "name": "stdout",
     "output_type": "stream",
     "text": [
      " Sum of 12 and 4 is 16\n"
     ]
    }
   ],
   "source": [
    "class MathOperations():\n",
    "    def add(self,num1:int,num2:int):\n",
    "        sum=num1+num2\n",
    "        print(f\" Sum of {num1} and {num2} is {sum}\")\n",
    "obj=MathOperations()\n",
    "obj.add(12,4)"
   ]
  },
  {
   "cell_type": "code",
   "execution_count": 19,
   "id": "9293cf3a-b616-49aa-9423-7791a872e85a",
   "metadata": {},
   "outputs": [
    {
     "name": "stdout",
     "output_type": "stream",
     "text": [
      " product of 33 and 44 is 1452\n"
     ]
    }
   ],
   "source": [
    "class MathOperations():\n",
    "    def multi(self,num1,num2):\n",
    "        prod=num1*num2\n",
    "        print(f\" product of {num1} and {num2} is {prod}\")\n",
    "obj1=MathOperations()\n",
    "obj1.multi(33,44)"
   ]
  },
  {
   "cell_type": "code",
   "execution_count": 24,
   "id": "bc838f71-1b54-4624-82b4-4b1d488696f2",
   "metadata": {},
   "outputs": [
    {
     "name": "stdout",
     "output_type": "stream",
     "text": [
      "Blue\n",
      "White\n",
      "Can Speak\n",
      "None\n",
      "Can do programming\n",
      "None\n",
      "\n",
      "Black\n",
      "Green\n",
      "Can Speak\n",
      "None\n",
      "Can do programming\n",
      "None\n"
     ]
    }
   ],
   "source": [
    "class Parent():\n",
    "    def __init__(self,eye_color,skin_color):\n",
    "        self.eye_color=eye_color\n",
    "        self.skin_color=skin_color\n",
    "    def speak(self):\n",
    "        print(f\"Can Speak\")\n",
    "class Child(Parent):\n",
    "    def activity(self):\n",
    "        print(f\"Can do programming\")\n",
    "        \n",
    "child = Child(\"Blue\", \"White\")\n",
    "print(child.eye_color) \n",
    "print(child.skin_color) \n",
    "print(child.speak())  \n",
    "print(child.activity())  \n",
    "\n",
    "child = Child(\"\\nBlack\", \"Green\")\n",
    "print(child.eye_color)\n",
    "print(child.skin_color)\n",
    "print(child.speak())  \n",
    "print(child.activity())"
   ]
  },
  {
   "cell_type": "code",
   "execution_count": 26,
   "id": "f7b0fabf-4e18-43c1-8eb1-1c75fb0a0f64",
   "metadata": {},
   "outputs": [
    {
     "name": "stdout",
     "output_type": "stream",
     "text": [
      "Yasir\n",
      "4433\n",
      "4444.333\n",
      "Your current balance is 4444.333\n",
      "Money want to withdraw 323\n"
     ]
    }
   ],
   "source": [
    "class Account():\n",
    "    def __init__(self,name:str,id:int,balance:float):\n",
    "        self.name=name\n",
    "        self.id=id\n",
    "        self.balance=balance\n",
    "    def balanceinquiry(self,amount:float):\n",
    "        print(f\"Your current balance is {amount}\")\n",
    "    def withdrawmoney(self,balance):\n",
    "        print(f\"Money want to withdraw {balance}\")\n",
    "SBI=Account(\"Yasir\",4433,4444.333)\n",
    "print(SBI.name)\n",
    "print(SBI.id)\n",
    "print(SBI.balance)\n",
    "SBI.balanceinquiry(4444.333)\n",
    "SBI.withdrawmoney(323)"
   ]
  },
  {
   "cell_type": "code",
   "execution_count": 35,
   "id": "78483ce0-01ae-4827-876b-e47ad238fb54",
   "metadata": {},
   "outputs": [
    {
     "name": "stdout",
     "output_type": "stream",
     "text": [
      "<bound method Father.speak of <__main__.Child object at 0x000002D73EBB3D50>>\n",
      "<bound method Mother.teach of <__main__.Child object at 0x000002D73EBB3D50>>\n"
     ]
    }
   ],
   "source": [
    "class Father():\n",
    "    def __init__(self,eye_color):\n",
    "        self.eye_color=eye_color\n",
    "    def speak(self):\n",
    "        print(f\"can speak\")\n",
    "class Mother():\n",
    "    def __init__(self,skin_color):\n",
    "        self.skin_color=skin_color\n",
    "    def teach(self):\n",
    "        print(f\"teach english\")\n",
    "class Child(Father,Mother):\n",
    "    def __init__(self,eye_color,skin_color):\n",
    "        Father.__init__(self,eye_color)\n",
    "        Mother.__init__(self,skin_color)\n",
    "chd_obj1=Child(\"Brown\",\"White\")\n",
    "print(chd_obj1.speak)\n",
    "print(chd_obj1.teach)"
   ]
  },
  {
   "cell_type": "code",
   "execution_count": 34,
   "id": "0e5de4db-9fe1-4134-94e2-ad78f66c26bf",
   "metadata": {},
   "outputs": [
    {
     "name": "stdout",
     "output_type": "stream",
     "text": [
      "20\n"
     ]
    }
   ],
   "source": [
    "class Parent:\n",
    "    def __init__(self, x, y):\n",
    "        self.x = x\n",
    "        self.y = y\n",
    "\n",
    "class Child(Parent):\n",
    "    def __init__(self, x, y):\n",
    "        # initialize Parent with your needed data           \n",
    "        Parent.__init__(self, x,y)\n",
    "        # or call mata class\n",
    "        # super().__init__(x,y)\n",
    "\n",
    "    def firstMethod(self):\n",
    "        print(self.y) # or something?\n",
    "\n",
    "c = Child(20,20)\n",
    "c.firstMethod()\n",
    "# 20"
   ]
  },
  {
   "cell_type": "code",
   "execution_count": null,
   "id": "51b7375c-c33b-4f36-b62c-90ae075c39dc",
   "metadata": {},
   "outputs": [],
   "source": []
  }
 ],
 "metadata": {
  "kernelspec": {
   "display_name": "Python 3 (ipykernel)",
   "language": "python",
   "name": "python3"
  },
  "language_info": {
   "codemirror_mode": {
    "name": "ipython",
    "version": 3
   },
   "file_extension": ".py",
   "mimetype": "text/x-python",
   "name": "python",
   "nbconvert_exporter": "python",
   "pygments_lexer": "ipython3",
   "version": "3.11.7"
  }
 },
 "nbformat": 4,
 "nbformat_minor": 5
}
