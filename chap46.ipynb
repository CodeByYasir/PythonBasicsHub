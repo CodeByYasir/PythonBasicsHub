{
 "cells": [
  {
   "cell_type": "code",
   "execution_count": 1,
   "id": "9580e315-e374-478a-88dc-3e0b8ee6f313",
   "metadata": {},
   "outputs": [
    {
     "name": "stdout",
     "output_type": "stream",
     "text": [
      "50.5\n"
     ]
    }
   ],
   "source": [
    "def calc_tax(sales_total,tax_rate):\n",
    "    print(sales_total*tax_rate)\n",
    "calc_tax(101,0.50)"
   ]
  },
  {
   "cell_type": "code",
   "execution_count": 2,
   "id": "3968a560-6dd9-407a-97a9-0a35ba620f2e",
   "metadata": {},
   "outputs": [
    {
     "name": "stdout",
     "output_type": "stream",
     "text": [
      "220.0\n"
     ]
    }
   ],
   "source": [
    "calc_tax(1000,0.22)"
   ]
  },
  {
   "cell_type": "markdown",
   "id": "243b474f-dd06-4244-8416-d7caf60f1eca",
   "metadata": {},
   "source": [
    "### Return Function"
   ]
  },
  {
   "cell_type": "code",
   "execution_count": 3,
   "id": "145c0090-0555-4b3d-9bac-5c389f520823",
   "metadata": {},
   "outputs": [
    {
     "data": {
      "text/plain": [
       "50.5"
      ]
     },
     "execution_count": 3,
     "metadata": {},
     "output_type": "execute_result"
    }
   ],
   "source": [
    "def calc_tax(sales_total,tax_rate):\n",
    "    tax=sales_total*tax_rate\n",
    "    return tax\n",
    "calc_tax(101,0.50)"
   ]
  },
  {
   "cell_type": "code",
   "execution_count": 4,
   "id": "81d061c9-a1e3-4e0a-8b7b-e068a66c92fc",
   "metadata": {},
   "outputs": [],
   "source": [
    "customers= {\n",
    "    0:{'first name': 'David',\n",
    "    'last name': 'Elliott',\n",
    "    'address': '4803 Wellesley St.',\n",
    "    'city': 'LA'},\n",
    "    1:{'first name': 'Qasim',\n",
    "    'last name': 'Hassan',\n",
    "    'address': 'Near SMIT',\n",
    "    'city': 'Karachi'},\n",
    "    2:{'first name': 'Hassan',\n",
    "    'last name': 'Khan',\n",
    "    'address': 'Johar town',\n",
    "    'city': 'Lahore'}}"
   ]
  },
  {
   "cell_type": "code",
   "execution_count": 5,
   "id": "80c712f0-0ad5-4c14-98a3-08c6962ee679",
   "metadata": {},
   "outputs": [
    {
     "data": {
      "text/plain": [
       "'Near SMIT'"
      ]
     },
     "execution_count": 5,
     "metadata": {},
     "output_type": "execute_result"
    }
   ],
   "source": [
    "customers[1][\"address\"]"
   ]
  },
  {
   "cell_type": "code",
   "execution_count": 6,
   "id": "44561b94-c2d1-4f94-8a05-54c54c3b1f2d",
   "metadata": {},
   "outputs": [],
   "source": [
    "def customers_details(customer_dict,customer,details):\n",
    "    return customer_dict[customer][details]"
   ]
  },
  {
   "cell_type": "code",
   "execution_count": 7,
   "id": "9baa59b4-1a9a-437e-9561-151b31593b38",
   "metadata": {},
   "outputs": [
    {
     "data": {
      "text/plain": [
       "'Johar town'"
      ]
     },
     "execution_count": 7,
     "metadata": {},
     "output_type": "execute_result"
    }
   ],
   "source": [
    "customers_details(customers,2,\"address\")"
   ]
  },
  {
   "cell_type": "code",
   "execution_count": 8,
   "id": "b0a3df08-f96c-4ebb-98ca-006e1ddcf5f4",
   "metadata": {},
   "outputs": [
    {
     "data": {
      "text/plain": [
       "'Lahore'"
      ]
     },
     "execution_count": 8,
     "metadata": {},
     "output_type": "execute_result"
    }
   ],
   "source": [
    "customers_details(customers,2,\"city\")"
   ]
  },
  {
   "cell_type": "markdown",
   "id": "e4b6b5da-f36c-45c3-967b-f3d157873fc4",
   "metadata": {},
   "source": [
    "## dealing with unknown arguments"
   ]
  },
  {
   "cell_type": "code",
   "execution_count": 9,
   "id": "fb8fdeff-728b-458f-8fdc-3e66dcc1a8f5",
   "metadata": {},
   "outputs": [],
   "source": [
    "def olympic_winner(winner_name,winner_score): # without kwargs\n",
    "    print(f\"winner name is{winner_name} & its score is{winner_score}\")"
   ]
  },
  {
   "cell_type": "code",
   "execution_count": 10,
   "id": "06037515-a4db-49b5-baf6-1f7e27588ba5",
   "metadata": {},
   "outputs": [
    {
     "ename": "TypeError",
     "evalue": "olympic_winner() takes 2 positional arguments but 3 were given",
     "output_type": "error",
     "traceback": [
      "\u001b[1;31m---------------------------------------------------------------------------\u001b[0m",
      "\u001b[1;31mTypeError\u001b[0m                                 Traceback (most recent call last)",
      "Cell \u001b[1;32mIn[10], line 1\u001b[0m\n\u001b[1;32m----> 1\u001b[0m olympic_winner(\u001b[38;5;124m\"\u001b[39m\u001b[38;5;124mYasir\u001b[39m\u001b[38;5;124m\"\u001b[39m, \u001b[38;5;241m9\u001b[39m ,\u001b[38;5;28;01mTrue\u001b[39;00m)\n",
      "\u001b[1;31mTypeError\u001b[0m: olympic_winner() takes 2 positional arguments but 3 were given"
     ]
    }
   ],
   "source": [
    "olympic_winner(\"Yasir\", 9 ,True)"
   ]
  },
  {
   "cell_type": "code",
   "execution_count": null,
   "id": "63b97aa5-e3e4-4271-94a6-4c961781af08",
   "metadata": {},
   "outputs": [],
   "source": [
    "def olympic_winner(winner_name,winner_score, **kwargs): #kwargs\n",
    "    print(f\"winner name is{winner_name} & its score is{winner_score}\")\n",
    "    print(kwargs)"
   ]
  },
  {
   "cell_type": "code",
   "execution_count": null,
   "id": "13f9e03e-f3f5-4fcf-a254-10340f5dcc06",
   "metadata": {},
   "outputs": [],
   "source": [
    "olympic_winner(\"Yasir\", 9 ,injuries=True, overtime=False)"
   ]
  },
  {
   "cell_type": "code",
   "execution_count": null,
   "id": "33f17a5b-0c35-4df9-9b2b-e106b00db985",
   "metadata": {},
   "outputs": [],
   "source": [
    "def olympic_winner(winner_name,winner_score, **kwargs): #kwargs\n",
    "    print(f\"winner name is{winner_name} & its score is{winner_score}\")\n",
    "    for kwarg in kwargs:\n",
    "        print(kwarg)"
   ]
  },
  {
   "cell_type": "code",
   "execution_count": null,
   "id": "cc2cd1f9-ffd7-4f66-b4d0-79db29509c8d",
   "metadata": {},
   "outputs": [],
   "source": [
    "olympic_winner(\"Yasir\", 9 ,injuries=True, overtime=False)"
   ]
  },
  {
   "cell_type": "code",
   "execution_count": null,
   "id": "30b1fad9-a4cf-4d2f-8da8-7ee59dd78ee5",
   "metadata": {},
   "outputs": [],
   "source": [
    "def olympic_winner(winner_name,winner_score, **kwargs): #kwargs\n",
    "    print(f\"winner name is{winner_name} & its score is{winner_score}\")\n",
    "    for key, value in kwargs.items():\n",
    "        print(f\"{key} --> {value}\")"
   ]
  },
  {
   "cell_type": "code",
   "execution_count": null,
   "id": "3a393f05-49aa-4dc7-8478-6631c54b04f9",
   "metadata": {},
   "outputs": [],
   "source": [
    "olympic_winner(\"Yasir\", 9 ,injuries=True, overtime=False)"
   ]
  },
  {
   "cell_type": "code",
   "execution_count": null,
   "id": "29d4c68c-a918-49a3-8ca8-c6efd002a44f",
   "metadata": {},
   "outputs": [],
   "source": [
    "def olympic_winner(winner_name,winner_score, *args): #args\n",
    "    print(f\"winner name is{winner_name} & its score is{winner_score}\")\n",
    "    print(args) #return tuple\n",
    "    for arg in args:\n",
    "        print(f\"{arg}\")"
   ]
  },
  {
   "cell_type": "code",
   "execution_count": null,
   "id": "375cf5bd-b88c-4314-a20a-9b546d1972d5",
   "metadata": {},
   "outputs": [],
   "source": [
    "olympic_winner(\"Yasir\", 9 ,True, False)"
   ]
  },
  {
   "cell_type": "markdown",
   "id": "75b956fa-4770-4e4e-9051-b904d8dd15fe",
   "metadata": {},
   "source": [
    "### Local vs Global variabls\n",
    "- global: access with in functions\n",
    "- local: "
   ]
  },
  {
   "cell_type": "code",
   "execution_count": null,
   "id": "245d8374-d635-4b83-a73a-e55a23ed795d",
   "metadata": {},
   "outputs": [],
   "source": [
    "x=0\n",
    "def sum(a,x):\n",
    "    sum=a+x\n",
    "    print(sum)\n",
    "sum(1,x)"
   ]
  },
  {
   "cell_type": "code",
   "execution_count": null,
   "id": "76d63c2d-b4cf-44d4-bfc4-b7db0bc08899",
   "metadata": {},
   "outputs": [],
   "source": [
    "def sum(a,z):\n",
    "    sum=a*z\n",
    "    print(sum)\n",
    "sum(1,4)"
   ]
  },
  {
   "cell_type": "code",
   "execution_count": null,
   "id": "aee5b786-59a8-45d4-85c0-ba6e42107b91",
   "metadata": {},
   "outputs": [],
   "source": [
    "global tax\n",
    "tax_rate=0.02\n",
    "def addition():\n",
    "    a=5 #it is a local variable\n",
    "    b=10\n",
    "    total=a+b\n",
    "    tax=total*tax_rate\n",
    "    return total, tax"
   ]
  },
  {
   "cell_type": "code",
   "execution_count": null,
   "id": "cecbdbed-9107-451a-a8ee-2d2df2f96ac1",
   "metadata": {},
   "outputs": [],
   "source": [
    "addition()"
   ]
  },
  {
   "cell_type": "markdown",
   "id": "1a93d6d2-e043-4c27-9fc1-1559785f6563",
   "metadata": {},
   "source": [
    "### Functions within functions"
   ]
  },
  {
   "cell_type": "code",
   "execution_count": null,
   "id": "13960734-f682-4547-bfb0-7e4183d3bc73",
   "metadata": {},
   "outputs": [],
   "source": [
    "def func_sales_after_tax(total_sales):\n",
    "    return total_sales*0.11\n",
    "def func_total_sales(gulshan,stadium,dha):\n",
    "    total_sales=gulshan+stadium+dha\n",
    "    sales_after_tax=func_sales_after_tax(total_sales)\n",
    "    return sales_after_tax\n",
    "func_total_sales(222,444,222)"
   ]
  },
  {
   "cell_type": "markdown",
   "id": "46fd97c4-3297-4e02-9a42-7721fd221d63",
   "metadata": {},
   "source": [
    "## While Loops"
   ]
  },
  {
   "cell_type": "code",
   "execution_count": null,
   "id": "de11713e-da3b-4697-9539-a54bbea381bf",
   "metadata": {},
   "outputs": [],
   "source": [
    "clean_countries=['Pakistan','Bangladesh','India']\n",
    "usr_input=input(\"Enter country name:\")\n",
    "for country in clean_countries:\n",
    "    print(f\"validation check{country}\")\n",
    "    if usr_input== country:\n",
    "        print(f\"{country} is a clean country\")\n",
    "        break"
   ]
  },
  {
   "cell_type": "code",
   "execution_count": null,
   "id": "bca3cde0-be14-44dd-9cc2-ca716ba97ff4",
   "metadata": {},
   "outputs": [],
   "source": [
    "clean_countries.append('Chaina')"
   ]
  },
  {
   "cell_type": "code",
   "execution_count": 22,
   "id": "fb8db831-23f7-49e0-a778-05e24f7788a4",
   "metadata": {},
   "outputs": [
    {
     "name": "stdin",
     "output_type": "stream",
     "text": [
      " South\n",
      " q\n"
     ]
    }
   ],
   "source": [
    "clean_countries=['Pakistan','Bangladesh','India','Srilanka','USA','UK','Canada','Korea']\n",
    "usr_input=''\n",
    "while usr_input!='q':\n",
    "    usr_input=input('')\n",
    "    if usr_input in clean_countries:\n",
    "        print(f\"{usr_input} is clean country\")"
   ]
  },
  {
   "cell_type": "code",
   "execution_count": null,
   "id": "147f59ce-b7d1-46f2-89e6-aa22e3ec6bbf",
   "metadata": {},
   "outputs": [],
   "source": []
  }
 ],
 "metadata": {
  "kernelspec": {
   "display_name": "Python 3 (ipykernel)",
   "language": "python",
   "name": "python3"
  },
  "language_info": {
   "codemirror_mode": {
    "name": "ipython",
    "version": 3
   },
   "file_extension": ".py",
   "mimetype": "text/x-python",
   "name": "python",
   "nbconvert_exporter": "python",
   "pygments_lexer": "ipython3",
   "version": "3.11.7"
  }
 },
 "nbformat": 4,
 "nbformat_minor": 5
}
