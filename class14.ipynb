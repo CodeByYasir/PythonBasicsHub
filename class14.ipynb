{
 "cells": [
  {
   "cell_type": "markdown",
   "id": "8009f585-7a0b-4804-8bb8-952bfb2ffdef",
   "metadata": {},
   "source": [
    "### ABSTRACTION"
   ]
  },
  {
   "cell_type": "code",
   "execution_count": 1,
   "id": "153b07cb-35c2-4092-98e1-5d65fd4280ef",
   "metadata": {},
   "outputs": [],
   "source": [
    "class shapes():\n",
    "    def sides():\n",
    "        pass"
   ]
  },
  {
   "cell_type": "code",
   "execution_count": 3,
   "id": "74d92011-9b15-4a93-b560-545550edda86",
   "metadata": {},
   "outputs": [
    {
     "name": "stdout",
     "output_type": "stream",
     "text": [
      "Square has 4 sides\n"
     ]
    }
   ],
   "source": [
    "class square(shapes):\n",
    "    def sides(self):\n",
    "        print(\"Square has 4 sides\")\n",
    "SQUARE=square()\n",
    "SQUARE.sides()"
   ]
  },
  {
   "cell_type": "code",
   "execution_count": 4,
   "id": "d0d9a725-0e75-4a57-9584-785e116c1207",
   "metadata": {},
   "outputs": [
    {
     "name": "stdout",
     "output_type": "stream",
     "text": [
      "ciscle has no sides\n"
     ]
    }
   ],
   "source": [
    "class circle():\n",
    "    def sides(self):\n",
    "        print(\"ciscle has no sides\")\n",
    "CIRCLE=circle()\n",
    "CIRCLE.sides()"
   ]
  },
  {
   "cell_type": "markdown",
   "id": "424dbe7c-a078-41ea-a67e-f59afb388a18",
   "metadata": {},
   "source": [
    "### OVERLOADING"
   ]
  },
  {
   "cell_type": "code",
   "execution_count": 10,
   "id": "7affac5e-ee70-4e96-a434-d5f05884d500",
   "metadata": {},
   "outputs": [
    {
     "name": "stdout",
     "output_type": "stream",
     "text": [
      "4\n",
      "5.6000000000000005\n",
      "YasirAhmed\n"
     ]
    }
   ],
   "source": [
    "from typing import overload\n",
    "\n",
    "class Adder:\n",
    "    @overload\n",
    "    def add(self, x: int, y: int) -> int: ...\n",
    "    \n",
    "    @overload\n",
    "    def add(self, x: float, y: float) -> float: ...\n",
    "    \n",
    "    @overload\n",
    "    def add(self, x: str, y: str) -> str: ...\n",
    "\n",
    "    def add(self, x, y):\n",
    "        if isinstance(x, int) and isinstance(y, int):\n",
    "            return x + y\n",
    "        elif isinstance(x, float) and isinstance(y, float):\n",
    "            return x + y\n",
    "        elif isinstance(x, str) and isinstance(y, str):\n",
    "            return x + y\n",
    "        else:\n",
    "            raise TypeError(\"Invalid argument types\")\n",
    "\n",
    "adder = Adder()\n",
    "result1 = adder.add(1, 3)\n",
    "result2 = adder.add(1.2, 4.4)\n",
    "result3 = adder.add(\"Yasir\", \"Ahmed\")\n",
    "\n",
    "print(result1)\n",
    "print(result2)\n",
    "print(result3)"
   ]
  },
  {
   "cell_type": "markdown",
   "id": "06b9691d-6679-48a4-a6ea-7ca94f3f587d",
   "metadata": {},
   "source": [
    "### OVERRIDING\n",
    "getting the last updated method/attribute"
   ]
  },
  {
   "cell_type": "code",
   "execution_count": 12,
   "id": "f88715c4-31ad-449c-89e0-b2a6f6322518",
   "metadata": {},
   "outputs": [
    {
     "ename": "TypeError",
     "evalue": "Bird.eating() takes 1 positional argument but 2 were given",
     "output_type": "error",
     "traceback": [
      "\u001b[1;31m---------------------------------------------------------------------------\u001b[0m",
      "\u001b[1;31mTypeError\u001b[0m                                 Traceback (most recent call last)",
      "Cell \u001b[1;32mIn[12], line 8\u001b[0m\n\u001b[0;32m      6\u001b[0m         \u001b[38;5;28mprint\u001b[39m(\u001b[38;5;124m\"\u001b[39m\u001b[38;5;124mBird is eating\u001b[39m\u001b[38;5;124m\"\u001b[39m)\n\u001b[0;32m      7\u001b[0m bird\u001b[38;5;241m=\u001b[39mBird()\n\u001b[1;32m----> 8\u001b[0m bird\u001b[38;5;241m.\u001b[39meating(\u001b[38;5;124m\"\u001b[39m\u001b[38;5;124mAlu\u001b[39m\u001b[38;5;124m\"\u001b[39m)\n",
      "\u001b[1;31mTypeError\u001b[0m: Bird.eating() takes 1 positional argument but 2 were given"
     ]
    }
   ],
   "source": [
    "class Animal():\n",
    "    def eating(self):\n",
    "        print(\"Animal is eating\")\n",
    "class Bird(Animal):\n",
    "    def eating(self):\n",
    "        print(\"Bird is eating\")\n",
    "bird=Bird()\n",
    "bird.eating(\"Alu\")"
   ]
  },
  {
   "cell_type": "code",
   "execution_count": 13,
   "id": "3dbb947f-a32d-459c-945d-288fe36cce16",
   "metadata": {},
   "outputs": [],
   "source": [
    "class Airlines():\n",
    "    def takeoftiming(self,time):\n",
    "        pass"
   ]
  },
  {
   "cell_type": "code",
   "execution_count": 17,
   "id": "23d208e7-ac3d-4c1b-aa79-28da7bdbe13f",
   "metadata": {},
   "outputs": [
    {
     "name": "stdout",
     "output_type": "stream",
     "text": [
      "Airline is taking of at 2AM\n"
     ]
    }
   ],
   "source": [
    "class Airlines():\n",
    "    def takeoftiming(self,time):\n",
    "        print(\"Airline is taking of at 2AM\")\n",
    "airline=Airlines()\n",
    "airline.takeoftiming(1)"
   ]
  },
  {
   "cell_type": "code",
   "execution_count": 23,
   "id": "dafada78-be80-4601-b194-81f3319f6322",
   "metadata": {},
   "outputs": [
    {
     "name": "stdout",
     "output_type": "stream",
     "text": [
      "6\n",
      "9.66\n",
      "8\n"
     ]
    }
   ],
   "source": [
    "from typing import overload\n",
    "class Multi:\n",
    "    @overload\n",
    "    def multi(self, x: int, y: int) -> int: ...\n",
    "    \n",
    "    @overload\n",
    "    def multi(self, x: float, y: float) -> float: ...\n",
    "    \n",
    "    @overload\n",
    "    def multi(self, x: str, y: str) -> str: ...\n",
    "\n",
    "    def multi(self,x,y):\n",
    "        if isinstance(x,int) and isinstance(y,int):\n",
    "            return x*y\n",
    "        elif isinstance(x,float) and isinstance(y,float):\n",
    "            return x*y\n",
    "        elif isinstance(x,str) and isinstance(y,str):\n",
    "            return x*y\n",
    "        else:\n",
    "            raise TyperError(\"Invalid argument\")\n",
    "prod=Multi()\n",
    "result1=prod.multi(2,3)\n",
    "result2=prod.multi(2.3,4.2)\n",
    "result3=prod.multi(2,4)\n",
    "print(result1)\n",
    "print(result2)\n",
    "print(result3)"
   ]
  },
  {
   "cell_type": "markdown",
   "id": "24edf345-8357-4432-b562-2593d9e6004c",
   "metadata": {},
   "source": [
    "### ENCAPSULATION"
   ]
  },
  {
   "cell_type": "code",
   "execution_count": 24,
   "id": "603f3fcd-9c4d-4019-b5e7-c65b315a827d",
   "metadata": {},
   "outputs": [
    {
     "data": {
      "text/plain": [
       "789"
      ]
     },
     "execution_count": 24,
     "metadata": {},
     "output_type": "execute_result"
    }
   ],
   "source": [
    "class saylani():\n",
    "    def __init__(self):\n",
    "        self.helpline=786\n",
    "        self._batch=\"python\"\n",
    "        self.__result=\"Pass\"\n",
    "        self.helpline=789\n",
    "s=saylani()\n",
    "s.helpline"
   ]
  },
  {
   "cell_type": "code",
   "execution_count": 26,
   "id": "69e2456a-d000-47c6-a48d-b0bd11479442",
   "metadata": {},
   "outputs": [],
   "source": [
    "s.helpline=434"
   ]
  },
  {
   "cell_type": "code",
   "execution_count": 27,
   "id": "9048bda1-90cb-43bc-9814-ef73cee6fddf",
   "metadata": {},
   "outputs": [
    {
     "data": {
      "text/plain": [
       "434"
      ]
     },
     "execution_count": 27,
     "metadata": {},
     "output_type": "execute_result"
    }
   ],
   "source": [
    "s.helpline"
   ]
  },
  {
   "cell_type": "code",
   "execution_count": 28,
   "id": "68ffa6dc-3d62-43e3-8693-1fe724da43f7",
   "metadata": {},
   "outputs": [
    {
     "ename": "AttributeError",
     "evalue": "'saylani' object has no attribute '__result'",
     "output_type": "error",
     "traceback": [
      "\u001b[1;31m---------------------------------------------------------------------------\u001b[0m",
      "\u001b[1;31mAttributeError\u001b[0m                            Traceback (most recent call last)",
      "Cell \u001b[1;32mIn[28], line 1\u001b[0m\n\u001b[1;32m----> 1\u001b[0m s\u001b[38;5;241m.\u001b[39m__result\n",
      "\u001b[1;31mAttributeError\u001b[0m: 'saylani' object has no attribute '__result'"
     ]
    }
   ],
   "source": [
    "s.__result"
   ]
  },
  {
   "cell_type": "code",
   "execution_count": 29,
   "id": "e46d1a6d-3ab8-46a7-a6e7-8ff20beb1d10",
   "metadata": {},
   "outputs": [
    {
     "data": {
      "text/plain": [
       "'Pass'"
      ]
     },
     "execution_count": 29,
     "metadata": {},
     "output_type": "execute_result"
    }
   ],
   "source": [
    "s._saylani__result"
   ]
  },
  {
   "cell_type": "code",
   "execution_count": 31,
   "id": "ba699327-1fcb-4772-9d76-47fe670b5651",
   "metadata": {},
   "outputs": [
    {
     "data": {
      "text/plain": [
       "'Fail'"
      ]
     },
     "execution_count": 31,
     "metadata": {},
     "output_type": "execute_result"
    }
   ],
   "source": [
    "s._saylani__result=\"Fail\"\n",
    "s._saylani__result"
   ]
  },
  {
   "cell_type": "code",
   "execution_count": 43,
   "id": "9a2f7544-e2d4-4c98-8b4d-d67d42c1f500",
   "metadata": {},
   "outputs": [],
   "source": [
    "class StudentLogin():\n",
    "    def __init__(self):\n",
    "        self.username=\"Yasir\"\n",
    "        self.__password=3423\n",
    "    def __dbconnectivity(self):\n",
    "        if username == __password:\n",
    "            print(\"validate\")\n",
    "        else:\n",
    "            print(\"Invalid\")"
   ]
  },
  {
   "cell_type": "code",
   "execution_count": 50,
   "id": "ec57986f-672c-4483-9b8b-9e29eac6785d",
   "metadata": {},
   "outputs": [
    {
     "ename": "AttributeError",
     "evalue": "'StudentLogin' object has no attribute '__dbconnectivity'",
     "output_type": "error",
     "traceback": [
      "\u001b[1;31m---------------------------------------------------------------------------\u001b[0m",
      "\u001b[1;31mAttributeError\u001b[0m                            Traceback (most recent call last)",
      "Cell \u001b[1;32mIn[50], line 2\u001b[0m\n\u001b[0;32m      1\u001b[0m sl\u001b[38;5;241m=\u001b[39mStudentLogin()\n\u001b[1;32m----> 2\u001b[0m sl\u001b[38;5;241m.\u001b[39m__dbconnectivity()\n",
      "\u001b[1;31mAttributeError\u001b[0m: 'StudentLogin' object has no attribute '__dbconnectivity'"
     ]
    }
   ],
   "source": []
  },
  {
   "cell_type": "code",
   "execution_count": 45,
   "id": "6bb96534-f480-42b9-8304-eec00b53d03d",
   "metadata": {},
   "outputs": [
    {
     "data": {
      "text/plain": [
       "'Yasir'"
      ]
     },
     "execution_count": 45,
     "metadata": {},
     "output_type": "execute_result"
    }
   ],
   "source": [
    "sl.username"
   ]
  },
  {
   "cell_type": "code",
   "execution_count": 52,
   "id": "d1c1e520-b230-4fcf-8057-b47e1ce57b14",
   "metadata": {},
   "outputs": [
    {
     "name": "stdout",
     "output_type": "stream",
     "text": [
      "Password is valid!\n",
      "Password updated successfully!\n",
      "Invalid password!\n"
     ]
    },
    {
     "data": {
      "text/plain": [
       "False"
      ]
     },
     "execution_count": 52,
     "metadata": {},
     "output_type": "execute_result"
    }
   ],
   "source": [
    "class User:\n",
    "    def __init__(self, username: str, password: str):\n",
    "        self.username = username\n",
    "        self.__password = password  # Private password\n",
    "\n",
    "    def validate_password(self) -> bool:\n",
    "\n",
    "        if self.username == self.__password:\n",
    "            print(\"Password is valid!\")\n",
    "            return True\n",
    "        else:\n",
    "            print(\"Invalid password!\")\n",
    "            return False\n",
    "\n",
    "    def update_password(self, old_password: str, new_password: str) -> None:\n",
    "\n",
    "        if old_password == self.__password:\n",
    "            self.__password = new_password\n",
    "            print(\"Password updated successfully!\")\n",
    "        else:\n",
    "            print(\"Old password is incorrect. Password not updated.\")\n",
    "user = User(\"admin\", \"admin\")\n",
    "user.validate_password()\n",
    "user.update_password(\"admin\", \"newpass123\")\n",
    "user.validate_password()"
   ]
  },
  {
   "cell_type": "code",
   "execution_count": 54,
   "id": "d32861cb-0d3f-4530-86ed-f78763a96989",
   "metadata": {},
   "outputs": [
    {
     "name": "stdout",
     "output_type": "stream",
     "text": [
      "Invalid password!\n",
      "Old password is incorrect. Password not updated.\n",
      "Invalid password!\n"
     ]
    },
    {
     "data": {
      "text/plain": [
       "False"
      ]
     },
     "execution_count": 54,
     "metadata": {},
     "output_type": "execute_result"
    }
   ],
   "source": [
    "class User:\n",
    "    def __init__(self):\n",
    "        self.username = \"yasir\"\n",
    "        self.__password = 3434  # Private password\n",
    "\n",
    "    def validate_password(self) -> bool:\n",
    "\n",
    "        if self.username == self.__password:\n",
    "            print(\"Password is valid!\")\n",
    "            return True\n",
    "        else:\n",
    "            print(\"Invalid password!\")\n",
    "            return False\n",
    "\n",
    "    def update_password(self, old_password: str, new_password: str) -> None:\n",
    "\n",
    "        if old_password == self.__password:\n",
    "            self.__password = new_password\n",
    "            print(\"Password updated successfully!\")\n",
    "        else:\n",
    "            print(\"Old password is incorrect. Password not updated.\")\n",
    "user = User()\n",
    "user.validate_password()\n",
    "user.update_password(\"admin\", \"newpass123\")\n",
    "user.validate_password()"
   ]
  },
  {
   "cell_type": "code",
   "execution_count": 55,
   "id": "ff4161cd-f793-4a48-97e7-66b901351c0f",
   "metadata": {},
   "outputs": [
    {
     "name": "stdout",
     "output_type": "stream",
     "text": [
      "Public Add: 30\n",
      "Protected Add: 10.0\n",
      "Private Add (accessed via name mangling): 15\n"
     ]
    }
   ],
   "source": [
    "class Calculator:\n",
    "    \n",
    "    def public_add(self, x, y):\n",
    "        \"\"\"This is a public method.\"\"\"\n",
    "        return self._protected_add(x, y)\n",
    "    \n",
    "    def _protected_add(self, x, y):\n",
    "        \"\"\"This is a protected method.\"\"\"\n",
    "        if isinstance(x, (int, float)) and isinstance(y, (int, float)):\n",
    "            return self.__private_add(x, y)\n",
    "        else:\n",
    "            raise TypeError(\"Only int or float types are allowed\")\n",
    "    \n",
    "    def __private_add(self, x, y):\n",
    "        \"\"\"This is a private method.\"\"\"\n",
    "        return x + y\n",
    "\n",
    "# Creating an instance of the Calculator class\n",
    "calc = Calculator()\n",
    "\n",
    "# Accessing the public method (accessible from outside)\n",
    "result_public = calc.public_add(10, 20)  # 30\n",
    "print(\"Public Add:\", result_public)\n",
    "\n",
    "# Accessing the protected method directly (should not be accessed from outside, but it's allowed in Python)\n",
    "result_protected = calc._protected_add(5.5, 4.5)  # 10.0\n",
    "print(\"Protected Add:\", result_protected)\n",
    "\n",
    "# Trying to access the private method directly will result in an error\n",
    "# result_private = calc.__private_add(10, 5)  # This will raise an AttributeError\n",
    "\n",
    "# Accessing private method using name mangling\n",
    "result_private = calc._Calculator__private_add(10, 5)  # 15\n",
    "print(\"Private Add (accessed via name mangling):\", result_private)"
   ]
  },
  {
   "cell_type": "code",
   "execution_count": 56,
   "id": "603e9a1b-3cff-4bf3-9ec1-00dc8f1fb7fd",
   "metadata": {},
   "outputs": [
    {
     "name": "stdout",
     "output_type": "stream",
     "text": [
      "Username: YasirAhmed\n",
      "Password match: True\n",
      "Password match after change: True\n",
      "Private password (via name mangling): eaaa4a79c43019473cc37be32ede6ea36c962bdf821fafbecc573c6931f63ea7\n"
     ]
    }
   ],
   "source": [
    "import hashlib\n",
    "\n",
    "class User:\n",
    "    \n",
    "    def __init__(self, username, password):\n",
    "        self.username = username  # Public attribute\n",
    "        self.__password = self.__encrypt_password(password)  # Private attribute\n",
    "        \n",
    "    def public_get_username(self):\n",
    "        \"\"\"Public method to get the username.\"\"\"\n",
    "        return self.username\n",
    "    \n",
    "    def public_check_password(self, password):\n",
    "        \"\"\"Public method to check if the password matches the stored password.\"\"\"\n",
    "        return self.__verify_password(password)\n",
    "    \n",
    "    def _protected_set_password(self, new_password):\n",
    "        \"\"\"Protected method to allow password change.\"\"\"\n",
    "        if self.__is_password_valid(new_password):\n",
    "            self.__password = self.__encrypt_password(new_password)\n",
    "        else:\n",
    "            raise ValueError(\"Password does not meet security requirements.\")\n",
    "    \n",
    "    def __encrypt_password(self, password):\n",
    "        \"\"\"Private method to encrypt the password.\"\"\"\n",
    "        return hashlib.sha256(password.encode()).hexdigest()\n",
    "    \n",
    "    def __verify_password(self, password):\n",
    "        \"\"\"Private method to verify if the given password is correct.\"\"\"\n",
    "        return self.__password == self.__encrypt_password(password)\n",
    "    \n",
    "    def __is_password_valid(self, password):\n",
    "        \"\"\"Private method to validate the password complexity.\"\"\"\n",
    "        return len(password) >= 8\n",
    "\n",
    "\n",
    "user = User(\"YasirAhmed\", \"securepassword123\")\n",
    "\n",
    "print(\"Username:\", user.public_get_username())  \n",
    "print(\"Password match:\", user.public_check_password(\"securepassword123\"))  \n",
    "\n",
    "user._protected_set_password(\"newpassword456\")  \n",
    "print(\"Password match after change:\", user.public_check_password(\"newpassword456\"))  \n",
    "\n",
    "print(\"Private password (via name mangling):\", user._User__password)"
   ]
  },
  {
   "cell_type": "code",
   "execution_count": null,
   "id": "9416f7e1-2e62-45d0-b249-f016b9fa97c5",
   "metadata": {},
   "outputs": [],
   "source": []
  }
 ],
 "metadata": {
  "kernelspec": {
   "display_name": "Python 3 (ipykernel)",
   "language": "python",
   "name": "python3"
  },
  "language_info": {
   "codemirror_mode": {
    "name": "ipython",
    "version": 3
   },
   "file_extension": ".py",
   "mimetype": "text/x-python",
   "name": "python",
   "nbconvert_exporter": "python",
   "pygments_lexer": "ipython3",
   "version": "3.11.7"
  }
 },
 "nbformat": 4,
 "nbformat_minor": 5
}
