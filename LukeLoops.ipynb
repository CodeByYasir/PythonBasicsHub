{
 "cells": [
  {
   "cell_type": "code",
   "execution_count": 6,
   "id": "23c0601d-1b9a-448b-9256-3d3cda980bb6",
   "metadata": {},
   "outputs": [
    {
     "name": "stdout",
     "output_type": "stream",
     "text": [
      "John Doe 5\n",
      "Jane Smith 7\n",
      "Robert Johnson 3\n",
      "Emily Davis 10\n",
      "Michael Brown 6\n",
      "Sarah Wilson 4\n",
      "William Jones 8\n",
      "Olivia Taylor 2\n",
      "James Miller 9\n",
      "Sophia Anderson 1\n",
      "Benjamin Thomas 11\n",
      "Isabella Martinez 5\n",
      "Alexander Harris 7\n",
      "Mia Clark 6\n",
      "Daniel Lewis 4\n",
      "Charlotte Young 3\n",
      "David Walker 10\n",
      "Abigail King 8\n",
      "Joseph Allen 2\n",
      "Ava Wright 9\n",
      "Christopher Scott 5\n",
      "Ella Hall 7\n",
      "Andrew Green 3\n",
      "Grace Adams 6\n",
      "Joshua Baker 4\n"
     ]
    }
   ],
   "source": [
    "applicants = {\n",
    "    \"John Doe\": 5,\n",
    "    \"Jane Smith\": 7,\n",
    "    \"Robert Johnson\": 3,\n",
    "    \"Emily Davis\": 10,\n",
    "    \"Michael Brown\": 6,\n",
    "    \"Sarah Wilson\": 4,\n",
    "    \"William Jones\": 8,\n",
    "    \"Olivia Taylor\": 2,\n",
    "    \"James Miller\": 9,\n",
    "    \"Sophia Anderson\": 1,\n",
    "    \"Benjamin Thomas\": 11,\n",
    "    \"Isabella Martinez\": 5,\n",
    "    \"Alexander Harris\": 7,\n",
    "    \"Mia Clark\": 6,\n",
    "    \"Daniel Lewis\": 4,\n",
    "    \"Charlotte Young\": 3,\n",
    "    \"David Walker\": 10,\n",
    "    \"Abigail King\": 8,\n",
    "    \"Joseph Allen\": 2,\n",
    "    \"Ava Wright\": 9,\n",
    "    \"Christopher Scott\": 5,\n",
    "    \"Ella Hall\": 7,\n",
    "    \"Andrew Green\": 3,\n",
    "    \"Grace Adams\": 6,\n",
    "    \"Joshua Baker\": 4\n",
    "}\n",
    "for value,key in applicants.items():\n",
    "    print(value,key)"
   ]
  },
  {
   "cell_type": "code",
   "execution_count": 10,
   "id": "4adc81ed-8fe6-4050-a842-d698e21e91c8",
   "metadata": {},
   "outputs": [
    {
     "name": "stdout",
     "output_type": "stream",
     "text": [
      "Jane Smith has 7 years of experience\n",
      "Emily Davis has 10 years of experience\n",
      "Michael Brown has 6 years of experience\n",
      "William Jones has 8 years of experience\n",
      "James Miller has 9 years of experience\n",
      "Benjamin Thomas has 11 years of experience\n",
      "Alexander Harris has 7 years of experience\n",
      "Mia Clark has 6 years of experience\n",
      "David Walker has 10 years of experience\n",
      "Abigail King has 8 years of experience\n",
      "Ava Wright has 9 years of experience\n",
      "Ella Hall has 7 years of experience\n",
      "Grace Adams has 6 years of experience\n"
     ]
    }
   ],
   "source": [
    "for key,value in applicants.items():\n",
    "    if value > 5:\n",
    "        print(f\"{key} has {value} years of experience\")"
   ]
  },
  {
   "cell_type": "code",
   "execution_count": 12,
   "id": "9a4daff4-4101-4ad1-a2cb-11c723502c71",
   "metadata": {},
   "outputs": [
    {
     "name": "stdout",
     "output_type": "stream",
     "text": [
      "John Doe\n",
      "Jane Smith\n",
      "Robert Johnson\n",
      "Emily Davis\n",
      "Michael Brown\n",
      "Sarah Wilson\n",
      "William Jones\n",
      "Olivia Taylor\n",
      "James Miller\n",
      "Sophia Anderson\n",
      "Benjamin Thomas\n",
      "Isabella Martinez\n",
      "Alexander Harris\n",
      "Mia Clark\n",
      "Daniel Lewis\n",
      "Charlotte Young\n",
      "David Walker\n",
      "Abigail King\n",
      "Joseph Allen\n",
      "Ava Wright\n",
      "Christopher Scott\n",
      "Ella Hall\n",
      "Andrew Green\n",
      "Grace Adams\n",
      "Joshua Baker\n"
     ]
    }
   ],
   "source": [
    "for applicant in applicants:\n",
    "    print(applicant)"
   ]
  },
  {
   "cell_type": "code",
   "execution_count": null,
   "id": "933282cc-ba3d-4333-9fe7-708b74e2fc5c",
   "metadata": {},
   "outputs": [],
   "source": []
  }
 ],
 "metadata": {
  "kernelspec": {
   "display_name": "Python 3 (ipykernel)",
   "language": "python",
   "name": "python3"
  },
  "language_info": {
   "codemirror_mode": {
    "name": "ipython",
    "version": 3
   },
   "file_extension": ".py",
   "mimetype": "text/x-python",
   "name": "python",
   "nbconvert_exporter": "python",
   "pygments_lexer": "ipython3",
   "version": "3.11.7"
  }
 },
 "nbformat": 4,
 "nbformat_minor": 5
}
