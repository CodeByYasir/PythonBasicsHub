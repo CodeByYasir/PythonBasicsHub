{
 "cells": [
  {
   "cell_type": "markdown",
   "id": "50cb15b8-d913-4bc7-b5eb-6de9f9075903",
   "metadata": {},
   "source": [
    "###Scenario 01: Employee Performance Evaluation\n",
    "\n",
    "\n",
    "In a large corporation, the HR department needs\n",
    "to evaluate the performance of employees based on\n",
    "their sales records and customer satisfaction ratings.\n",
    "They want to identify the top-performing employees\n",
    "based on a weighted score that combined \n",
    "sales performance and customer satisfaction.\n",
    "\n",
    "\n",
    "Hint: Use List comprehension & Lambda Functions\n",
    "\n",
    "\n",
    "# Sample data: List of tuples containing \n",
    "\n",
    "employee names, sales figures, and customer \n",
    "satisfaction ratings\n",
    "\n",
    "employees = \n",
    "[\n",
    "(\"John\", 50000, 4.5),\n",
    "\n",
    "(\"Alice\", 60000, 4.7),\n",
    "\n",
    "(\"Bob\", 45000, 4.2),\n",
    "    \n",
    "(\"Emma\", 55000, 4.6),\n",
    "    \n",
    "(\"James\", 48000, 4.4)\n",
    "]\n",
    "\n",
    "\n",
    "\n",
    "# Define weights for sales performance \n",
    "and customer satisfaction ratings\n",
    "sales_weight = 0.6\n",
    "\n",
    "satisfaction_weight = 0.4\n",
    "\n",
    "\n",
    "\n",
    "\n",
    "Scenario 02: Calculating Square Roots of Even Numbers\n",
    "\n",
    "\n",
    "\n",
    "Imagine you're tasked with calculating the \n",
    "square roots of even numbers from 1 to 10 using \n",
    "list comprehension and lambda functions."
   ]
  },
  {
   "cell_type": "code",
   "execution_count": 11,
   "id": "98ab6d1f-3a60-4a39-8e24-952812dc1c56",
   "metadata": {},
   "outputs": [
    {
     "name": "stdout",
     "output_type": "stream",
     "text": [
      "Employee: Alice, Weighted Score: 36001.88\n",
      "Employee: Emma, Weighted Score: 33001.84\n",
      "Employee: John, Weighted Score: 30001.80\n",
      "Employee: James, Weighted Score: 28801.76\n",
      "Employee: Bob, Weighted Score: 27001.68\n"
     ]
    }
   ],
   "source": [
    "# Sample data\n",
    "employees = [ \n",
    "    (\"John\", 50000, 4.5),\n",
    "    (\"Alice\", 60000, 4.7),\n",
    "    (\"Bob\", 45000, 4.2),\n",
    "    (\"Emma\", 55000, 4.6),\n",
    "    (\"James\", 48000, 4.4)\n",
    "]\n",
    "\n",
    "sales_weight = 0.6\n",
    "satisfaction_weight = 0.4\n",
    "\n",
    "def calculate_weighted_score(employee):\n",
    "    name, sales, satisfaction = employee\n",
    "    return (sales * sales_weight) + (satisfaction * satisfaction_weight)\n",
    "weighted_scores = [(name, calculate_weighted_score((name, sales, satisfaction))) for name, sales, satisfaction in employees]\n",
    "\n",
    "def get_score(item):\n",
    "    return item[1]\n",
    "\n",
    "sorted_employees = sorted(weighted_scores, key=get_score, reverse=True)\n",
    "for name, score in sorted_employees:\n",
    "    print(f\"Employee: {name}, Weighted Score: {score:.2f}\")\n"
   ]
  },
  {
   "cell_type": "markdown",
   "id": "3d9b445e-3266-417c-bc96-233d2cd48ca0",
   "metadata": {},
   "source": [
    "###Scenario 02: Calculating Square Roots of Even Numbers\n",
    "\n",
    "Imagine you're tasked with calculating the square roots of even numbers from 1 to 10 using list comprehension and lambda functions."
   ]
  },
  {
   "cell_type": "code",
   "execution_count": 12,
   "id": "794b7040-0f3d-4f10-9e3d-5460b07f1eb6",
   "metadata": {},
   "outputs": [
    {
     "name": "stdout",
     "output_type": "stream",
     "text": [
      "[1.4142135623730951, 2.0, 2.449489742783178, 2.8284271247461903, 3.1622776601683795]\n"
     ]
    }
   ],
   "source": [
    "import math\n",
    "square_roots = [math.sqrt(x) for x in range(1, 11) if x % 2 == 0]\n",
    "print(square_roots)"
   ]
  },
  {
   "cell_type": "code",
   "execution_count": null,
   "id": "7d4fc634-0719-4c09-9349-e6fdb6ad2147",
   "metadata": {},
   "outputs": [],
   "source": []
  }
 ],
 "metadata": {
  "kernelspec": {
   "display_name": "Python 3 (ipykernel)",
   "language": "python",
   "name": "python3"
  },
  "language_info": {
   "codemirror_mode": {
    "name": "ipython",
    "version": 3
   },
   "file_extension": ".py",
   "mimetype": "text/x-python",
   "name": "python",
   "nbconvert_exporter": "python",
   "pygments_lexer": "ipython3",
   "version": "3.11.7"
  }
 },
 "nbformat": 4,
 "nbformat_minor": 5
}
